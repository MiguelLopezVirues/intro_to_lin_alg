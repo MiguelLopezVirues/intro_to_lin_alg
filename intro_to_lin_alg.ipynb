{
 "cells": [
  {
   "cell_type": "markdown",
   "id": "224876dd-82d0-42ac-b526-9135262ea08c",
   "metadata": {},
   "source": [
    "# Lineare Algebra für Data Science und absolute Beginner\n",
    "![beginner](https://upload.wikimedia.org/wikipedia/commons/f/f7/ABSOLUTE_BEGINNER.jpg \"Von Mika Väisänen, CC BY-SA 3.0 de, https://commons.wikimedia.org/w/index.php?curid=38500036\")"
   ]
  },
  {
   "cell_type": "markdown",
   "id": "398d3a75-392b-45f2-9331-549139750112",
   "metadata": {},
   "source": [
    "# Einführung - Lass loslegen!"
   ]
  },
  {
   "cell_type": "markdown",
   "id": "75946196-4288-477d-b17a-ca08a739ba8f",
   "metadata": {},
   "source": [
    "## Motivation\n",
    "Mit Linearer Algebra hatten wir alle in der Schule zu tun - und viele von uns in der Uni. Meiner Erfahrung nach jedoch mit Schwerpunkten, die uns bei Data Science nicht so super weiterhelfen. Nämlich der analytischen Geometrie und dem Lösen von linearen Gleichungssystemen. Dabei ist Lineare Algebra voll mit Magic!\n",
    "### Analytische Geometrie\n",
    "Die Auffassung von Vektoren als \"Richtungen\" mit \"Längen\" in einem zwei- oder dreidimensionalem Raum ist in der Physik mega-wichtig. Hier wird modelliert, wie z.B. Kräfte, Massen/Energie auf einander wirken. Bei Data Science ist das aber nicht so wichtig. Wann haben wir zuletzt den Inhalt eines durch drei Vektoren aufgespannten Spats errechnet? Unsere Realität hat in der Regel sehr viel mehr Dimensionen als 3 oder 4. Es geht normalerweise um hunderte Artikel, tausende Märkte oder Millionen von Payback-Kunden.\n",
    "\n",
    "![geometrie](https://assets.serlo.org/legacy/56ebf8ccae142_e9818a46b6afa0e60b04bf5d9d1fe74e9d946ed5.png)\n",
    "\n",
    "### Lineare Gleichungssysteme\n",
    "Peter hat drei mal so viele Schafe wie Kühe. Er hat 9 Kühe weniger als Schafe. Wie viele .... *gäääähhhn*. Nicht falsch verstehen: Ist auch super wichtig, aber in der Regel nicht der wichtigste Teil bei unseren Aufgaben\n",
    "\n",
    "![lgs](https://wikimedia.org/api/rest_v1/media/math/render/svg/8bc5de1dc07af82d688846a31896e46d38c708a9)\n",
    "\n",
    "## Was ist Algebra?\n",
    "Arabisch: Zusammenfügen von (gebrochenen) Teilen\n",
    "\n",
    "Befasst sich mit den Eigenschaften von Rechenoperationen.\n",
    "\n",
    "Okay, klingt abstrakt. Jetzt etwas genauer: Was bedeutet es z.B. zu \"Addieren\"? Klingt erstmal einfach: 9 + 5 = 14 = oder? Oder Allgmeiner: a + b = c. Aber was, wenn a=3 und b=Apfel und c=Birne? (Habe ich jetzt Äpfel mir Birnen verglichen?) Oder was, wenn a und b Tabellen sind? Oder könnte ich mir eine Welt ausdenken, in der 9 + 5 = 2 ist?\n",
    "## Welche Beispiele für Algebra gibt es?\n",
    "**2*x = 6, X = 3** : Einfaches Gleichungslösen (Elementare Algebra)\n",
    "\n",
    "**9 + 5 = 2** : Ich könnte die Addition so definieren, dass wieder bei 0 angefangen wird zu zählen, wenn sobald die Summe 12 überschreitet. Wozu soll ich das brauchen? Denk mal an eine Uhr. :) (Abstrakte Algebra)\n",
    "\n",
    "**a und b sind Tabellen** : Das geht mit relationaler Algebra. Die bekanntesten Implementierungen von relationaler Algebra sind **SQL** und **Pandas** in Python. Krass! mit Algebra hatte wir also schon immer zu tun! Aber hey, warum dann nicht direkt SQL oder Pandas? Das schauen wir uns später an!\n"
   ]
  },
  {
   "cell_type": "markdown",
   "id": "3feb6a8d-1846-4b8c-bfc0-08336cb43f26",
   "metadata": {},
   "source": [
    "## Völlig unwissenschaftliche Definitionen von Linearer Algebra\n",
    "### Zach Star Edition\n",
    "Zach ist YouTuber und macht coole Videos zu Mathematik. \n",
    "> Matrices do things to Vectors.\n",
    "\n",
    "Diese \"Definition\" hat mir die Augen geöffnet, weil es so schön plastisch ist: Eine Matrix nimmt einen Vektor, modelt diesen um und spuckt einen anderen Vektor wieder aus. Oder etwas mathematischer: Eine Matrix lässt sich wie eine lineare Abbildung einsetzen. (Details dazu später.)\n",
    "\n",
    "Auch coole Videos zu Mathematik macht übrigens auch 3blue1brown.\n",
    "\n",
    "### Gilbert Strang Edition\n",
    "Gilbert Strang lehrt am MIT Mathematik und hat das \"Fundamentaltheorem der Linaren Algebra\" aufgestellt. Krasser Dude, der übrigens super Vorlesungen macht. (Viel davon auch auf Youtube.) Das witzige ist aber, dass er auf die Frage was Lineare Algebra ist, eher so antwortet:\n",
    "> Linear Algebra is all about the colums ... and the rows ... and how they depend on each other\n",
    "\n",
    "Hört sich doch schon ganz nützlich für Data Science an, oder? "
   ]
  },
  {
   "cell_type": "markdown",
   "id": "73b44176-9015-49a3-8718-88bbdfaf5af1",
   "metadata": {},
   "source": [
    "## In Python nutzen wir das Package numpy oder scipy, um Lineare Algebra zu machen"
   ]
  },
  {
   "cell_type": "code",
   "execution_count": 3,
   "id": "3af7a3d0-d393-4fd2-bc0d-616df428b1c1",
   "metadata": {},
   "outputs": [],
   "source": [
    "import numpy as np\n",
    "from numpy import linalg as LA"
   ]
  },
  {
   "cell_type": "markdown",
   "id": "7813af14-c88e-4676-a651-737675fd0eb5",
   "metadata": {},
   "source": [
    "# Ein paar Grundbegriffe. (Aber nur ganz wenige.) Was sind ...\n",
    "## ... Skalare?\n",
    "Skalare sind einfach Zahlen - nur in Sprechweise der Linearen Algebra.\n",
    "### Nutzung in Standard-Python"
   ]
  },
  {
   "cell_type": "code",
   "execution_count": 4,
   "id": "ab209fbc-ad66-4fd5-8969-e92b19babd2a",
   "metadata": {
    "tags": []
   },
   "outputs": [
    {
     "name": "stdout",
     "output_type": "stream",
     "text": [
      "Der Inhalt von b ist 5\n",
      "Der Datentyp von b ist <class 'int'>\n",
      "a hat 0 Dimensionen\n"
     ]
    }
   ],
   "source": [
    "a = 5\n",
    "print(\"Der Inhalt von b ist \" + str(a))\n",
    "print(\"Der Datentyp von b ist \" + str(type(a)))\n",
    "print(\"a hat 0 Dimensionen\")"
   ]
  },
  {
   "cell_type": "markdown",
   "id": "739b55cb-9603-430b-aea4-3bd4aa8f8682",
   "metadata": {},
   "source": [
    "### Nutzung in numpy"
   ]
  },
  {
   "cell_type": "code",
   "execution_count": 5,
   "id": "bfd6ab62-547f-4e62-9587-86953bd9ea36",
   "metadata": {
    "tags": []
   },
   "outputs": [
    {
     "name": "stdout",
     "output_type": "stream",
     "text": [
      "Der Inhalt von b ist 6\n",
      "Der Datentyp von b ist <class 'numpy.ndarray'>\n",
      "b hat 0 Dimensionen\n"
     ]
    }
   ],
   "source": [
    "b = np.array(6)\n",
    "print(\"Der Inhalt von b ist \" + str(b))\n",
    "print(\"Der Datentyp von b ist \" + str(type(b)))\n",
    "print(\"b hat \" + str(b.ndim) + \" Dimensionen\")"
   ]
  },
  {
   "cell_type": "markdown",
   "id": "7bd9f2a9-064e-4cee-afd8-c38f2a413792",
   "metadata": {},
   "source": [
    "## ... Vektoren?\n",
    "**Vektoren** sind Zeilen oder Spalten mit Zahlen (Skalaren) - einfach aneinander gereiht.\n",
    "\n",
    "**Beispiel** : Abverkäufe von Artikeln. Der erste Artikel hat zwei Abverkäufe, der zweite 1 Stück und der dritte Artikel drei."
   ]
  },
  {
   "cell_type": "code",
   "execution_count": 6,
   "id": "d9fac2d0-55fa-455b-9272-391c3d310e49",
   "metadata": {},
   "outputs": [
    {
     "name": "stdout",
     "output_type": "stream",
     "text": [
      "Der Inhalt von b ist [2 1 3]\n",
      "Der Datentyp von b ist <class 'numpy.ndarray'>\n",
      "b hat 1 Dimension\n",
      "b hat die Form (3,)\n"
     ]
    }
   ],
   "source": [
    "v = np.array([2,1,3])\n",
    "print(\"Der Inhalt von b ist \" + str(v))\n",
    "print(\"Der Datentyp von b ist \" + str(type(v)))\n",
    "print(\"b hat \" + str(v.ndim) + \" Dimension\")\n",
    "print(\"b hat die Form \" + str(v.shape))"
   ]
  },
  {
   "cell_type": "markdown",
   "id": "faa59b1d-717f-4505-81e8-a9b633e23f1e",
   "metadata": {},
   "source": [
    "## ... Matrizen?\n",
    "Eine **Matrix** ist eine Anordnung von mehreren Spalten oder Zeilen (= Vektoren). Auch wenn es hier durch die eckigen Klammern anders aussieht: Die Sichtweisen als Kombination von Spalten oder Zeilen sind beide ok.\n",
    "\n",
    "**Beispiel 1** : Abverkäufe von Artikeln (Zeilen) in Märkten (Spalten). In den Zellen stehen die Abverkäufe.\n",
    "\n",
    "**Beispiel 2** : Ähnlichkeiten von Artikeln untereinander. Also Artikel in Zeilen *und* Spalten. In den Zellen stehen die Ähnlichkeiten. (Siehe auch Gilbert Strang (oben): Wie hängen Zeilen und Spalten zusammen?)\n"
   ]
  },
  {
   "cell_type": "code",
   "execution_count": 7,
   "id": "f2e7af48-ea35-441b-a87a-d475141897ca",
   "metadata": {},
   "outputs": [
    {
     "name": "stdout",
     "output_type": "stream",
     "text": [
      "Der Inhalt von A ist \n",
      "[[1 2 3]\n",
      " [4 5 6]\n",
      " [7 8 9]]\n",
      "Der Datentyp von A ist <class 'numpy.ndarray'>\n",
      "A hat 2 Dimension\n",
      "A hat die Form (3, 3)\n"
     ]
    }
   ],
   "source": [
    "A = np.array([[1,2,3],\n",
    "              [4,5,6],\n",
    "              [7,8,9]])\n",
    "print(\"Der Inhalt von A ist \\n\" + str(A))\n",
    "print(\"Der Datentyp von A ist \" + str(type(A)))\n",
    "print(\"A hat \" + str(A.ndim) + \" Dimension\")\n",
    "print(\"A hat die Form \" + str(A.shape))"
   ]
  },
  {
   "cell_type": "markdown",
   "id": "e070bb45-c3e3-451a-b580-055d7c390d28",
   "metadata": {},
   "source": [
    "## ...Tensoren?\n",
    "Tensoren sind Matrizen auf Steroiden. Ein Skalar hat \"0\" Dimensionen. Ein Vektor hat eine Dimension (eine Zeile oder eine Spalte) und eine Matrix zwei (Zeilen *und* Spalten). Aber was, wenn wir noch mehr Dimensionen benötigen? Guess What? **Tensoren**.\n",
    "\n",
    "Von Tensoren habt Ihr wahrscheinlich schon einmal bei \"TensorFlow\" gehört. Das ist ein Paket mit dem man sehr schnell mit Vektoren, Matrizen und Tensoren rechnen kann. Das geht besonders gut mit Grafik-Karten bzw. deren Prozessoren, den GPUs. Denn bei Call of Duty zocken passiert nichts anderes als Lineare Algebra. :)\n",
    "\n",
    "Das Folgende Beispiel muss man sich wie einen dreidimensionalen Quader vorstellen - mit zwei Matrizen übereinander."
   ]
  },
  {
   "cell_type": "code",
   "execution_count": 8,
   "id": "99c8f9d5-2e2b-4cb6-bcad-01a1c350b46f",
   "metadata": {},
   "outputs": [
    {
     "name": "stdout",
     "output_type": "stream",
     "text": [
      "Der Inhalt von T ist \n",
      "[[[ 1  2  3]\n",
      "  [ 4  5  6]\n",
      "  [ 7  8  9]]\n",
      "\n",
      " [[10 11 12]\n",
      "  [13 14 15]\n",
      "  [16 17 18]]]\n",
      "Der Datentyp von T ist <class 'numpy.ndarray'>\n",
      "T hat 3 Dimension\n",
      "T hat die Form (2, 3, 3)\n"
     ]
    }
   ],
   "source": [
    "T = np.array([[[1,2,3],\n",
    "               [4,5,6],\n",
    "               [7,8,9]],\n",
    "              [[10,11,12],\n",
    "              [13,14,15],\n",
    "              [16,17,18]]])\n",
    "print(\"Der Inhalt von T ist \\n\" + str(T))\n",
    "print(\"Der Datentyp von T ist \" + str(type(T)))\n",
    "print(\"T hat \" + str(T.ndim) + \" Dimension\")\n",
    "print(\"T hat die Form \" + str(T.shape))"
   ]
  },
  {
   "cell_type": "markdown",
   "id": "67b3a084-0b29-40b2-b73a-15a854ef68f5",
   "metadata": {},
   "source": [
    "## Warum denn Vektoren, Matrizen und Tensoren statt good old Tabellen?\n",
    "|Eigenschaft|Tabellen|Matrizen|\n",
    "|----|----|----|\n",
    "|Datentypen|mehrere Möglich - je Spalte einer|nur ein Datentyp möglich|\n",
    "|Operationen|Beschränkt auf SQL - sinnvoll bei einfachen Rechenoperationen|Rechenoperationen, die komplexe Operationen kapseln|\n",
    "|Geschwindigkeit|eher langsam|schnell|\n",
    "|Persistenz|Gut, um Daten zu speichern|Gut, um mit Daten zu rechnen|\n",
    "|Komplexität|Summen/Mittelwerte in vielen Dimensionen|Zusammenhänge zwischen vielen Dimensionen|"
   ]
  },
  {
   "cell_type": "markdown",
   "id": "5b2bde56-9dc3-41fe-86a8-63a8c952b5ee",
   "metadata": {
    "tags": []
   },
   "source": [
    "# Praxisbeispiel: Zombie-Apokalypse bei A&T"
   ]
  },
  {
   "cell_type": "markdown",
   "id": "8c5b106b-7e8a-41b7-a51d-b7c56d8beaa7",
   "metadata": {},
   "source": [
    "## Setting"
   ]
  },
  {
   "cell_type": "code",
   "execution_count": 86,
   "id": "f48e4f3c-15c0-44cd-a5f7-1d651521e4a8",
   "metadata": {},
   "outputs": [
    {
     "name": "stdout",
     "output_type": "stream",
     "text": [
      "[ 1 99]\n"
     ]
    }
   ],
   "source": [
    "# A&T besteht aus 100 Personen, am ersten Tag ist eine Person ist ein Zombie\n",
    "\n",
    "z = 1\n",
    "g = 99\n",
    "\n",
    "# basteln wir mal eine Vektor daraus\n",
    "\n",
    "at_erster_tag = np.array([z, g])\n",
    "print(at_erster_tag)"
   ]
  },
  {
   "cell_type": "code",
   "execution_count": 87,
   "id": "99aa9d16-ac0c-429b-a135-110a7dd00f9f",
   "metadata": {},
   "outputs": [
    {
     "name": "stdout",
     "output_type": "stream",
     "text": [
      "[[0.9 0.2]\n",
      " [0.1 0.8]]\n"
     ]
    }
   ],
   "source": [
    "# Wahrscheinlichkeiten pro Tag\n",
    "\n",
    "zz = 0.9 # Zombie bleiben\n",
    "zg = 0.1 # Zombie erholt sich und wird gesund\n",
    "\n",
    "gg = 0.8 # Gesunde Person bleibt gesund\n",
    "gz = 0.2 # Gesunde Person wird von Zombie gebissen\n",
    "\n",
    "#                        heute Zombie  heute gesund\n",
    "#                                  vv  vv\n",
    "zombifizierungmatrix =  np.array([[zz, gz],  # <- am nächsten Tag Zombie\n",
    "                                  [zg, gg]]) # <- am nächsten Tag gesund\n",
    "print(zombifizierungmatrix)"
   ]
  },
  {
   "cell_type": "markdown",
   "id": "d1201bd3-3ec4-4338-b097-12e0dadce14f",
   "metadata": {},
   "source": [
    "## The Zu-Fuß-Way\n",
    "Dann rechnen wir mal zu Fuß! Wir nehmen uns die Variablen oben und und multipizieren und addieren uns die Zahlen für den nächsten Tag zusammen."
   ]
  },
  {
   "cell_type": "code",
   "execution_count": 98,
   "id": "63191223-e7cc-4002-9680-cf49e416e485",
   "metadata": {},
   "outputs": [
    {
     "name": "stdout",
     "output_type": "stream",
     "text": [
      "Es gibt am 2. Tag 20.7 Zombies und 79.3 Gesunde. Es gibt 0.261 mal mehr Zombies als Gesunde.\n"
     ]
    }
   ],
   "source": [
    "z_zweiter_tag = z * zz + g * gz # Die Zombies, die welche bleiben plus die Gesunden, die Zombies werden.\n",
    "g_zweiter_tag = g * gg + z * zg # Die Gesunden, die welche bleiben plus die Zombies, die Gesund werden.\n",
    "print(f\"Es gibt am 2. Tag {z_zweiter_tag:2.4} Zombies und {g_zweiter_tag:2.4} Gesunde. Es gibt {(z_zweiter_tag/g_zweiter_tag):2.4} mal mehr Zombies als Gesunde.\")"
   ]
  },
  {
   "cell_type": "markdown",
   "id": "c3364ae9-0cc4-4033-bef1-c63e6f6a9d17",
   "metadata": {},
   "source": [
    "Okay, das ging ja noch! Jetzt müssen wir noch zwei Probleme tacklen:\n",
    "\n",
    "1. Was, wenn wir 500 Artikel und nicht 2 Gruppen haben? Das wird nicht funktionieren! Bedeutet: Das Vorgehen **skaliert nicht mit der Vektorgröße**.\n",
    "2. Wie sieht es denn nach 20 Tagen aus? Bedeutet: Das Vorgehen **skaliert nicht im Zeitverlauf**.\n",
    "\n"
   ]
  },
  {
   "cell_type": "markdown",
   "id": "6335cc71-00d2-4997-b68b-b3eb741d26a1",
   "metadata": {},
   "source": [
    "## The Lineare-Algebra-Way\n",
    "Wenn Du Dir die Rechnung für die Zombies am nächsten Tag oben anschaust, fällt Dir vielleicht auf, dass Dir die Formel schon einmal untergekommen ist. Es ist das Punktprodukt zwischen zwei Vektoren: Nämlich dem Vektor `at` mit der ersten Zeile der Matrix `zombifizierungmatrix[0,:] = [0.9 0.2]` . (In Excel nennt sich die Formel übrigens `SUMMENPRODUKT()`). Probieren wir das doch mal aus! Das Punktprodukt wird bei dem Datentyp `ndarray` mit dem Zeichen `@` ausgedrückt."
   ]
  },
  {
   "cell_type": "code",
   "execution_count": 99,
   "id": "6ff84772-ccc2-4299-8c4e-f761fde0804e",
   "metadata": {},
   "outputs": [
    {
     "name": "stdout",
     "output_type": "stream",
     "text": [
      "Es gibt am 2. Tag 20.7 Zombies und 79.3 Gesunde. Es gibt 0.261 mal mehr Zombies als Gesunde.\n"
     ]
    }
   ],
   "source": [
    "z_zweiter_tag = at_erster_tag @ zombifizierungmatrix[0,:]\n",
    "g_zweiter_tag = at_erster_tag @ zombifizierungmatrix[1,:]\n",
    "print(f\"Es gibt am 2. Tag {z_zweiter_tag:2.4} Zombies und {g_zweiter_tag:2.4} Gesunde. Es gibt {(at_zweiter_tag[0]/at_zweiter_tag[1]):2.4} mal mehr Zombies als Gesunde.\")"
   ]
  },
  {
   "cell_type": "markdown",
   "id": "f5be2839-539c-4a4f-913a-86ccbebe4f7e",
   "metadata": {},
   "source": [
    "Hmmmmmm... So richtig was gewonnen haben wir jetzt noch nicht, oder? Wir haben jetzt etwas eleganteren Code und haben uns gespart, die Spalten der Matrix durchgehen zum müssen. Aber bei Problem 1 und 2 ist uns noch nicht viel geholfen. Überlegen wir erstmal zu Problem 1: Wäre es nicht cool, wenn man das nicht für jede Komponente des Vektors einzeln machen müsste? Auch das geht mit dem Zeichen `@`. "
   ]
  },
  {
   "cell_type": "markdown",
   "id": "e4fa8b0c-136a-48f1-b6d4-e2f6a23a8c31",
   "metadata": {},
   "source": [
    "### Die Matrixmultiplikation"
   ]
  },
  {
   "cell_type": "markdown",
   "id": "c636b65c-cd70-44f1-9273-6832442d26ef",
   "metadata": {},
   "source": [
    "Das `@` bedeutet nämlich **Matrixmultiplikation**. Das Punktprodukt ist nur ein Spezialfall, wenn wenn beide Matizen nur eine Spalte oder eine Zeile haben. Wir können jetzt einfach den Vektor mit der Matrix multiplizieren und *zack* - das Ergebnis ist da! (In Excel nennt sich die Formel übrigens `MMULT()`)"
   ]
  },
  {
   "cell_type": "code",
   "execution_count": 100,
   "id": "fc022373-05ad-4473-a620-60fe62d8a61e",
   "metadata": {},
   "outputs": [
    {
     "name": "stdout",
     "output_type": "stream",
     "text": [
      "Es gibt am 2. Tag 20.7 Zombies und 79.3 Gesunde. Es gibt 0.261 mal mehr Zombies als Gesunde.\n"
     ]
    }
   ],
   "source": [
    "at_zweiter_tag = zombifizierungmatrix @ at_erster_tag\n",
    "print(f\"Es gibt am 2. Tag {at_zweiter_tag[0]:2.4} Zombies und {at_zweiter_tag[1]:2.4} Gesunde. Es gibt {(at_zweiter_tag[0]/at_zweiter_tag[1]):2.4} mal mehr Zombies als Gesunde.\")"
   ]
  },
  {
   "cell_type": "markdown",
   "id": "9e3c5f5c-448b-47c0-a9d2-417a1a2d15c7",
   "metadata": {},
   "source": [
    "Wir haben jetzt \"nur\" eine Zeile Code gespart. Aber bei 500 Artikeln hätten wir 499 Zeilen Code gespart. Das ist doch was! Wir haben jetzt eine - Achtung! - Operation gefunden, die immer funktioniert - egal wie lang der Vektor ist. Das ist besonders praktisch, weil wir zur Laufzeit ja häufig gar nicht wissen, mit wie vielen Artikeln oder Kunden oder Märkten oder whatever wir es zu tun haben. \n",
    "\n",
    "Zurück zur Theorie und speaking of **\"Operation\"**: Du erinnerst Dich? Ganz am Anfang habe ich geschrieben, dass sich die Algebra mit Rechenoperationen und deren Eigenschaften beschäftigt. Ich hoffe, das ist jetzt schon weniger abstrakt geworden. (Auch wenn wir uns die Eigenschaften, gleich noch einmal genauer angucken müssen.) Ich habe auch geschrieben, dass nicht immer Zahlen Gegenstand einer Operation sein müssen. In unserem Fall haben wir eine Abteilung am ersten Tag mit einer Zombifizierung \"multipliziert\" und die Abteilung am zweiten Tag erhalten. Verrückt, oder? Oder anders ausgedrückt: \"matrices do things to vectors\". Genau das ist die Magic der Linearen Algebra! :) \n",
    "\n",
    "Die Matrixmultiplikation ist wirklich eine ganz tolle Operation. Sie ist so vielfältig, dass man fast keine anderen Operationen benötigt. Sie kann z.B. Vektoren verlängern und drehen. Sie kann prognostizieren, wie die Welt am nächsten Tag aussieht - sowohl beim Wetter als auch bei Zombies. Sie kann Zeilen oder Spalten von anderen Matrizen vertauschen, addieren und subtrahieren. Sie kann Gleichungssysteme lösen und so vieles mehr! Aber Eines nach dem Anderen...\n",
    "\n",
    "Uff! Problem 1 wäre also gelöst! Jetzt zu Problem 2: Wie sieht es denn am 20. Tag aus? Dafür gibt es drei Lösungen:\n",
    "1. **Der Controller**: Einmal (im Taschenrechner) multiplizieren und dann 20 mal auf die `=`-Taste kloppen.\n",
    "2. **Der Informatiker**: Eine `for`-Schleife drum schnüren und gut is.\n",
    "3. **Der Ingenieur**: even more Lineare Algebra! <3\n",
    "4. (**Der Mathematiker**: Könnte uns beweisen, warum das alles so ist.)\n",
    "\n",
    "Okay, starten wir mit dem **Controller**. Die Idee wäre jetzt, die Multiplikation mehrfach auszuführen. Zunächst definieren wir den ersten Tag als \"heute\" und gehen dann in der Zeit immer weiter in die Zukunft."
   ]
  },
  {
   "cell_type": "code",
   "execution_count": 182,
   "id": "ce686f41-7080-44cb-8b4e-a4e5fcd54e87",
   "metadata": {},
   "outputs": [],
   "source": [
    "at_heute = at_erster_tag"
   ]
  },
  {
   "cell_type": "markdown",
   "id": "48a92730-6e32-40f0-95e9-c5be91450ebe",
   "metadata": {},
   "source": [
    "Führe die folgende Zelle mehrfach mit `Strg-Enter` aus. Wenn Du zurück zum Start möchtest, führe die obige Zelle noch einmal aus. Fällt Dir schon etwas auf? Wenn ja, merk's Dir! Wir kommen gleich darauf zurück."
   ]
  },
  {
   "cell_type": "code",
   "execution_count": 209,
   "id": "87ecbb33-8184-466a-a84b-427a8bfef764",
   "metadata": {},
   "outputs": [
    {
     "name": "stdout",
     "output_type": "stream",
     "text": [
      "Es gibt 66.66 Zombies und 33.34 Gesunde. Es gibt 2.0 mal mehr Zombies als Gesunde.\n"
     ]
    }
   ],
   "source": [
    "at_morgen = zombifizierungmatrix @ at_heute # Hier berechnen wie den Zombie-Count von morgen\n",
    "print(f\"Es gibt {at_morgen[0]:2.4} Zombies und {at_morgen[1]:2.4} Gesunde. Es gibt {(at_morgen[0]/at_morgen[1]):2.4} mal mehr Zombies als Gesunde.\") # Wir geben den Count aus\n",
    "at_heute = at_morgen # Wir gehen eine Tag in die Zukunft indem wir heute = morgen setzen. #TomorrowIsTheNewToday "
   ]
  },
  {
   "cell_type": "markdown",
   "id": "f7bcdea4-8016-4a2d-bb45-ad76c2363def",
   "metadata": {},
   "source": [
    "Jetzt zum **Informatiker**: 20 mal Enter drücken, kann man doch auch automatisieren, oder? Los geht's! Dabei hilft uns die zweitbekannteste Schleife der Welt: Die `for`-Loop."
   ]
  },
  {
   "cell_type": "code",
   "execution_count": 291,
   "id": "f037dced-79e1-45f4-b35e-79772ac91ef3",
   "metadata": {},
   "outputs": [
    {
     "name": "stdout",
     "output_type": "stream",
     "text": [
      "Es gibt am 1. Tag 20.7 Zombies und 79.3 Gesunde. Es gibt 0.261 mal mehr Zombies als Gesunde.\n",
      "Es gibt am 2. Tag 34.49 Zombies und 65.51 Gesunde. Es gibt 0.5265 mal mehr Zombies als Gesunde.\n",
      "Es gibt am 3. Tag 44.14 Zombies und 55.86 Gesunde. Es gibt 0.7903 mal mehr Zombies als Gesunde.\n",
      "Es gibt am 4. Tag 50.9 Zombies und 49.1 Gesunde. Es gibt 1.037 mal mehr Zombies als Gesunde.\n",
      "Es gibt am 5. Tag 55.63 Zombies und 44.37 Gesunde. Es gibt 1.254 mal mehr Zombies als Gesunde.\n",
      "Es gibt am 6. Tag 58.94 Zombies und 41.06 Gesunde. Es gibt 1.436 mal mehr Zombies als Gesunde.\n",
      "Es gibt am 7. Tag 61.26 Zombies und 38.74 Gesunde. Es gibt 1.581 mal mehr Zombies als Gesunde.\n",
      "Es gibt am 8. Tag 62.88 Zombies und 37.12 Gesunde. Es gibt 1.694 mal mehr Zombies als Gesunde.\n",
      "Es gibt am 9. Tag 64.02 Zombies und 35.98 Gesunde. Es gibt 1.779 mal mehr Zombies als Gesunde.\n",
      "Es gibt am 10. Tag 64.81 Zombies und 35.19 Gesunde. Es gibt 1.842 mal mehr Zombies als Gesunde.\n",
      "Es gibt am 11. Tag 65.37 Zombies und 34.63 Gesunde. Es gibt 1.888 mal mehr Zombies als Gesunde.\n",
      "Es gibt am 12. Tag 65.76 Zombies und 34.24 Gesunde. Es gibt 1.92 mal mehr Zombies als Gesunde.\n",
      "Es gibt am 13. Tag 66.03 Zombies und 33.97 Gesunde. Es gibt 1.944 mal mehr Zombies als Gesunde.\n",
      "Es gibt am 14. Tag 66.22 Zombies und 33.78 Gesunde. Es gibt 1.96 mal mehr Zombies als Gesunde.\n",
      "Es gibt am 15. Tag 66.35 Zombies und 33.65 Gesunde. Es gibt 1.972 mal mehr Zombies als Gesunde.\n",
      "Es gibt am 16. Tag 66.45 Zombies und 33.55 Gesunde. Es gibt 1.98 mal mehr Zombies als Gesunde.\n",
      "Es gibt am 17. Tag 66.51 Zombies und 33.49 Gesunde. Es gibt 1.986 mal mehr Zombies als Gesunde.\n",
      "Es gibt am 18. Tag 66.56 Zombies und 33.44 Gesunde. Es gibt 1.99 mal mehr Zombies als Gesunde.\n",
      "Es gibt am 19. Tag 66.59 Zombies und 33.41 Gesunde. Es gibt 1.993 mal mehr Zombies als Gesunde.\n",
      "Es gibt am 20. Tag 66.61 Zombies und 33.39 Gesunde. Es gibt 1.995 mal mehr Zombies als Gesunde.\n"
     ]
    }
   ],
   "source": [
    "at_heute = at_erster_tag\n",
    "ergebnis_historie = []\n",
    "\n",
    "for i in range(20) :\n",
    "    at_morgen = zombifizierungmatrix @ at_heute # Hier berechnen wie den Zombie-Count von morgen\n",
    "    print(f\"Es gibt am {i+1}. Tag {at_morgen[0]:2.4} Zombies und {at_morgen[1]:2.4} Gesunde. Es gibt {(at_morgen[0]/at_morgen[1]):2.4} mal mehr Zombies als Gesunde.\") # Wir geben den Count aus\n",
    "    ergebnis_historie.append(at_morgen) # Historie wegschreiben\n",
    "    at_heute = at_morgen # Wir gehen einen Tag in die Zukunft indem wir heute = morgen setzen. #TomorrowIsTheNewToday \n",
    "    \n",
    "ergebnis_historie = np.array(ergebnis_historie)"
   ]
  },
  {
   "cell_type": "markdown",
   "id": "119ea7af-6a09-436a-bc89-4d089ba6bb34",
   "metadata": {},
   "source": [
    "Interessant! Das Ding scheint gegen ein bestimmtes Verhältniss von 2/3 zu 1/3 zu konvergieren! **Plotten wir uns das doch mal.**"
   ]
  },
  {
   "cell_type": "code",
   "execution_count": 304,
   "id": "6f2aba65-516c-4084-b0fb-e0f65f6d6e4f",
   "metadata": {},
   "outputs": [
    {
     "data": {
      "text/plain": [
       "Text(0.5, 1.0, 'Verhältnis Zombies vs. Gesund im Zeitverlauf')"
      ]
     },
     "execution_count": 304,
     "metadata": {},
     "output_type": "execute_result"
    },
    {
     "data": {
      "image/png": "[encoded data removed]",
      "text/plain": [
       "<Figure size 1296x432 with 3 Axes>"
      ]
     },
     "metadata": {
      "needs_background": "light"
     },
     "output_type": "display_data"
    }
   ],
   "source": [
    "import matplotlib.pyplot as plt\n",
    "fig, (ax1, ax2, ax3) = plt.subplots(1, 3, figsize=(18, 6))\n",
    "# ax1.plot(ergebnis_historie[:,0], ergebnis_historie[:,1], 'C3', lw=3)\n",
    "ax2.scatter(ergebnis_historie[:,0], ergebnis_historie[:,1], s=120)\n",
    "ax2.set_title('Zombies vs. Gesund im Zeitverlauf')\n",
    "ax1.plot(ergebnis_historie)\n",
    "ax1.set_title('Zombies vs. Gesund im Zeitverlauf')\n",
    "ax3.plot(np.array(ergebnis_historie)[:,0]/np.array(ergebnis_historie)[:,1])\n",
    "ax3.set_title('Verhältnis Zombies vs. Gesund im Zeitverlauf')\n"
   ]
  },
  {
   "cell_type": "code",
   "execution_count": null,
   "id": "0aebb806-4b56-4f96-8bc1-6c8a0348d957",
   "metadata": {},
   "outputs": [],
   "source": [
    "# Letzen Punkt als vektor einzeichnen\n",
    "# funktion als schleife machen\n",
    "# input variieren\n",
    "grafiken machen\n",
    "# Norm eines vektors?\n",
    "eigen stuff erklären\n",
    "page rank\n"
   ]
  },
  {
   "cell_type": "code",
   "execution_count": null,
   "id": "8259bcc7-f549-4645-adae-a56eb1a681f4",
   "metadata": {},
   "outputs": [],
   "source": []
  },
  {
   "cell_type": "code",
   "execution_count": 306,
   "id": "73c94ded-e859-40e1-9d1a-81f0b851104a",
   "metadata": {},
   "outputs": [
    {
     "name": "stdout",
     "output_type": "stream",
     "text": [
      "[[ 0.89442719 -0.70710678]\n",
      " [ 0.4472136   0.70710678]]\n",
      "1.0\n"
     ]
    },
    {
     "data": {
      "text/plain": [
       "1.0"
      ]
     },
     "execution_count": 306,
     "metadata": {},
     "output_type": "execute_result"
    }
   ],
   "source": [
    "(eigvals, eigvectors) = LA.eig(zombifizierungmatrix)\n",
    "print(eigvectors)\n",
    "evec1 = eigvectors[:,0]\n",
    "evec2 = eigvectors[:,1]\n",
    "print((evec1[0]**2 + evec1[1]**2)**0.5)\n",
    "eval1 = eigvals[0]\n",
    "eval1"
   ]
  },
  {
   "cell_type": "code",
   "execution_count": 47,
   "id": "49ce1ed3-dafb-4ca5-a58e-3e8b93275c9c",
   "metadata": {},
   "outputs": [
    {
     "ename": "ValueError",
     "evalue": "matmul: Input operand 1 has a mismatch in its core dimension 0, with gufunc signature (n?,k),(k,m?)->(n?,m?) (size 2 is different from 3)",
     "output_type": "error",
     "traceback": [
      "\u001b[0;31m---------------------------------------------------------------------------\u001b[0m",
      "\u001b[0;31mValueError\u001b[0m                                Traceback (most recent call last)",
      "\u001b[0;32m<ipython-input-47-b754b8390a4a>\u001b[0m in \u001b[0;36m<module>\u001b[0;34m\u001b[0m\n\u001b[0;32m----> 1\u001b[0;31m \u001b[0mA\u001b[0m\u001b[0;34m@\u001b[0m\u001b[0mevec1\u001b[0m\u001b[0;34m\u001b[0m\u001b[0;34m\u001b[0m\u001b[0m\n\u001b[0m",
      "\u001b[0;31mValueError\u001b[0m: matmul: Input operand 1 has a mismatch in its core dimension 0, with gufunc signature (n?,k),(k,m?)->(n?,m?) (size 2 is different from 3)"
     ]
    }
   ],
   "source": [
    "A@evec1"
   ]
  },
  {
   "cell_type": "code",
   "execution_count": 200,
   "id": "e85ad9f6-c6bc-4641-8213-99b5dd306374",
   "metadata": {},
   "outputs": [
    {
     "name": "stdout",
     "output_type": "stream",
     "text": [
      "[66.44843709 33.55156291]\n"
     ]
    }
   ],
   "source": [
    "# Immer wieder neu ausführen\n",
    "aneu = A@aneu\n",
    "print(aneu)"
   ]
  },
  {
   "cell_type": "code",
   "execution_count": 186,
   "id": "f95b2ead-efb2-42cb-8de5-8025eccff2f2",
   "metadata": {},
   "outputs": [],
   "source": [
    "# dann mit for-schleife machen\n",
    "# Dann Startzustände variieren und feststellen, dass das Ergebnis immer gegen den gleichen Vektor konvergiert."
   ]
  },
  {
   "cell_type": "code",
   "execution_count": 146,
   "id": "1cc598cc-7255-49fd-a940-84a2215233dc",
   "metadata": {},
   "outputs": [],
   "source": [
    "# ------------- ab hier \"nur\" Ideen..."
   ]
  },
  {
   "cell_type": "markdown",
   "id": "45b940a3-4705-4ad0-9ad8-66cf71eb71d0",
   "metadata": {},
   "source": [
    "## The SQL-Way"
   ]
  },
  {
   "cell_type": "markdown",
   "id": "9c7dbdf3-0861-48b9-b15f-205d3d79ce9b",
   "metadata": {},
   "source": [
    "# Matrixmultiplikation besser verstehen"
   ]
  },
  {
   "cell_type": "markdown",
   "id": "62fc5aa0-0391-4a32-b0c0-dea718942617",
   "metadata": {},
   "source": [
    "# Ideen\n",
    "1. Eigenvektoren // google Page Rank\n",
    "2. Sonderfall Identitätsmatrix\n",
    "3. Verstehen, was eine Matrix tut > mit Matrix experimentieren\n",
    "4. PErmutationsmatrix >> Zeilen und Spalten vertauschen\n",
    "5. Inverse Matrix >> Sachen rückgängig machen."
   ]
  },
  {
   "cell_type": "code",
   "execution_count": 18,
   "id": "b89e12a5-a94b-49bf-9c11-a1832bea6eb3",
   "metadata": {},
   "outputs": [],
   "source": [
    "meine123matrix =    np.array([[1,2,3],\n",
    "                              [4,5,6],\n",
    "                              [7,8,9]])"
   ]
  },
  {
   "cell_type": "code",
   "execution_count": 15,
   "id": "7babfbc5-3dd1-4613-8e8e-7de32acf4fb4",
   "metadata": {},
   "outputs": [],
   "source": [
    "I = np.array([[1,0,0],\n",
    "              [0,1,0],\n",
    "              [0,0,1]])"
   ]
  },
  {
   "cell_type": "code",
   "execution_count": 16,
   "id": "e0714f04-4bb9-4820-b015-3d50635c34a2",
   "metadata": {},
   "outputs": [
    {
     "data": {
      "text/plain": [
       "array([[1, 2, 3],\n",
       "       [4, 5, 6],\n",
       "       [7, 8, 9]])"
      ]
     },
     "execution_count": 16,
     "metadata": {},
     "output_type": "execute_result"
    }
   ],
   "source": [
    "I@A"
   ]
  },
  {
   "cell_type": "code",
   "execution_count": null,
   "id": "0f9115ce-c3e1-4b67-bb9a-6989959f1fa2",
   "metadata": {},
   "outputs": [],
   "source": [
    "A*I"
   ]
  },
  {
   "cell_type": "code",
   "execution_count": null,
   "id": "a01781ae-9388-4cd6-9f14-7bb3cf68813e",
   "metadata": {},
   "outputs": [],
   "source": [
    "B = np.matrix([[1,0,0],\n",
    "               [0,0,1],\n",
    "               [0,1,0]])\n",
    "\n",
    "print(B)"
   ]
  },
  {
   "cell_type": "code",
   "execution_count": null,
   "id": "d6ce7b3f-3c59-4ba1-a536-bae38b37b01b",
   "metadata": {},
   "outputs": [],
   "source": [
    "# row swap \n",
    "# row operations = left multiplication of B with A\n",
    "# B means: write row 3 in row 2\n",
    "B*A"
   ]
  },
  {
   "cell_type": "code",
   "execution_count": null,
   "id": "fe3d4ad8-e5c8-4424-9c04-e1e44e958f8f",
   "metadata": {},
   "outputs": [],
   "source": [
    "# col swap \n",
    "# col operations = left multiplication of B with A\n",
    "# B means: write col 3 in col 2\n",
    "A*B"
   ]
  },
  {
   "cell_type": "code",
   "execution_count": null,
   "id": "f3457ce5-e4af-480a-9836-c82dfda3e24c",
   "metadata": {},
   "outputs": [],
   "source": [
    "# C\n",
    "C = I.copy()\n",
    "C[1,0] = -1\n",
    "C"
   ]
  },
  {
   "cell_type": "code",
   "execution_count": null,
   "id": "dc77e736-2892-488c-88db-dd4f42c87f05",
   "metadata": {},
   "outputs": [],
   "source": []
  },
  {
   "cell_type": "code",
   "execution_count": null,
   "id": "744fe637-859b-4d02-9487-7ac96c8253a9",
   "metadata": {},
   "outputs": [],
   "source": [
    "AT = A.transpose()"
   ]
  },
  {
   "cell_type": "code",
   "execution_count": null,
   "id": "712a63ac-bff8-4c45-b5bd-9cbf9c0e73e6",
   "metadata": {},
   "outputs": [],
   "source": [
    "AT"
   ]
  },
  {
   "cell_type": "code",
   "execution_count": null,
   "id": "d6734497-92d7-4edc-a96b-8380339ab741",
   "metadata": {},
   "outputs": [],
   "source": [
    "A*AT"
   ]
  },
  {
   "cell_type": "code",
   "execution_count": null,
   "id": "618a7599-346f-4ffd-a420-ce45d3a6a0a0",
   "metadata": {},
   "outputs": [],
   "source": [
    "AT*A"
   ]
  },
  {
   "cell_type": "code",
   "execution_count": null,
   "id": "4631bebd-c5b8-4ea5-96b0-dedd39c41948",
   "metadata": {},
   "outputs": [],
   "source": []
  }
 ],
 "metadata": {
  "kernelspec": {
   "display_name": "Python 3",
   "language": "python",
   "name": "python3"
  },
  "language_info": {
   "codemirror_mode": {
    "name": "ipython",
    "version": 3
   },
   "file_extension": ".py",
   "mimetype": "text/x-python",
   "name": "python",
   "nbconvert_exporter": "python",
   "pygments_lexer": "ipython3",
   "version": "3.7.10"
  }
 },
 "nbformat": 4,
 "nbformat_minor": 5
}
