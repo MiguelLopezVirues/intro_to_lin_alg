{
 "cells": [
  {
   "cell_type": "markdown",
   "source": [
    "# Lineare Algebra für Data Science und absolute Beginner\r\n",
    "![beginner](https://upload.wikimedia.org/wikipedia/commons/f/f7/ABSOLUTE_BEGINNER.jpg \"Von Mika Väisänen, CC BY-SA 3.0 de, https://commons.wikimedia.org/w/index.php?curid=38500036\")"
   ],
   "metadata": {}
  },
  {
   "cell_type": "markdown",
   "source": [
    "# Vorab\r\n",
    "## Nutzung\r\n",
    "Clone Dir gerne diese Repo. Ich freue mich über Requests!\r\n",
    "## Disclaimer\r\n",
    "Wahrscheinlich ist alles, was hier steht, streng genommen falsch oder unvollständig. Es geht mir aber nicht um die tausendste Standardeinführung, sondern darum, überhaupt mal einen Einstieg in das Thema zu bekommen - und zwar so, dass es sich den Anwendungsfällen im Hirn connected, die uns als Data Scientists beschäftigen.\r\n",
    "## Resources\r\n",
    "[Zach Star](https://www.youtube.com/c/zachstar)\r\n",
    "\r\n",
    "[3blue1brown](https://www.youtube.com/watch?v=kjBOesZCoqc)\r\n",
    "\r\n",
    "[Gilbert Strang](https://www.youtube.com/playlist?list=PL49CF3715CB9EF31D)\r\n",
    "\r\n",
    "[Steve Brunton](https://www.youtube.com/channel/UCm5mt-A4w61lknZ9lCsZtBw) (Twittername witzigerweise \"EigenSteve\")"
   ],
   "metadata": {}
  },
  {
   "cell_type": "markdown",
   "source": [
    "# Einführung - Lass loslegen!"
   ],
   "metadata": {}
  },
  {
   "cell_type": "markdown",
   "source": [
    "## Motivation\r\n",
    "Mit Linearer Algebra hatten wir alle in der Schule zu tun - und viele von uns in der Uni. Meiner Erfahrung nach jedoch mit Schwerpunkten, die uns bei Data Science nicht so super weiterhelfen. Nämlich der analytischen Geometrie und dem Lösen von linearen Gleichungssystemen. Dabei ist Lineare Algebra voll mit Magic!\r\n",
    "### Analytische Geometrie\r\n",
    "Die Auffassung von Vektoren als \"Richtungen\" mit \"Längen\" in einem zwei- oder dreidimensionalem Raum ist in der Physik mega-wichtig. Hier wird modelliert, wie z.B. Kräfte, Massen/Energie auf einander wirken. Bei Data Science ist das aber nicht so wichtig. Wann haben wir zuletzt den Inhalt eines durch drei Vektoren aufgespannten Spats errechnet? Unsere Realität hat in der Regel sehr viel mehr Dimensionen als 3 oder 4. Es geht normalerweise um hunderte Artikel, tausende Märkte oder Millionen von Payback-Kunden.\r\n",
    "\r\n",
    "![geometrie](https://assets.serlo.org/legacy/56ebf8ccae142_e9818a46b6afa0e60b04bf5d9d1fe74e9d946ed5.png)\r\n",
    "\r\n",
    "### Lineare Gleichungssysteme\r\n",
    "Peter hat drei mal so viele Schafe wie Kühe. Er hat 9 Kühe weniger als Schafe. Wie viele .... *gäääähhhn*. Nicht falsch verstehen: Ist auch super wichtig, aber in der Regel nicht der wichtigste Teil bei unseren Aufgaben\r\n",
    "\r\n",
    "![lgs](https://wikimedia.org/api/rest_v1/media/math/render/svg/8bc5de1dc07af82d688846a31896e46d38c708a9)\r\n",
    "\r\n",
    "## Was ist Algebra?\r\n",
    "Arabisch: Zusammenfügen von (gebrochenen) Teilen\r\n",
    "\r\n",
    "Befasst sich mit den Eigenschaften von Rechenoperationen.\r\n",
    "\r\n",
    "Okay, klingt abstrakt. Jetzt etwas genauer: Was bedeutet es z.B. zu \"Addieren\"? Klingt erstmal einfach: 9 + 5 = 14 = oder? Oder Allgmeiner: a + b = c. Aber was, wenn a=3 und b=Apfel und c=Birne? (Habe ich jetzt Äpfel mir Birnen verglichen?) Oder was, wenn a und b Tabellen sind? Oder könnte ich mir eine Welt ausdenken, in der 9 + 5 = 2 ist?\r\n",
    "## Welche Beispiele für Algebra gibt es?\r\n",
    "**2*x = 6, X = 3** : Einfaches Gleichungslösen (Elementare Algebra)\r\n",
    "\r\n",
    "**9 + 5 = 2** : Ich könnte die Addition so definieren, dass wieder bei 0 angefangen wird zu zählen, wenn sobald die Summe 12 überschreitet. Wozu soll ich das brauchen? Denk mal an eine Uhr. :) (Abstrakte Algebra)\r\n",
    "\r\n",
    "**a und b sind Tabellen** : Das geht mit relationaler Algebra. Die bekanntesten Implementierungen von relationaler Algebra sind **SQL** und **Pandas** in Python. Krass! mit Algebra hatte wir also schon immer zu tun! Aber hey, warum dann nicht direkt SQL oder Pandas? Das schauen wir uns später an!\r\n"
   ],
   "metadata": {}
  },
  {
   "cell_type": "markdown",
   "source": [
    "## Völlig unwissenschaftliche Definitionen von Linearer Algebra\r\n",
    "### Zach Star Edition\r\n",
    "Zach ist YouTuber und macht coole Videos zu Mathematik. \r\n",
    "> Matrices do things to Vectors.\r\n",
    "\r\n",
    "Diese \"Definition\" hat mir die Augen geöffnet, weil es so schön plastisch ist: Eine Matrix nimmt einen Vektor, modelt diesen um und spuckt einen anderen Vektor wieder aus. Oder etwas mathematischer: Eine Matrix lässt sich wie eine lineare Abbildung einsetzen. (Details dazu später.)\r\n",
    "\r\n",
    "Auch coole Videos zu Mathematik macht übrigens auch 3blue1brown.\r\n",
    "\r\n",
    "### Gilbert Strang Edition\r\n",
    "Gilbert Strang lehrt am MIT Mathematik und hat das \"Fundamentaltheorem der Linaren Algebra\" aufgestellt. Krasser Dude, der übrigens super Vorlesungen macht. (Viel davon auch auf Youtube.) Das witzige ist aber, dass er auf die Frage was Lineare Algebra ist, eher so antwortet:\r\n",
    "> Linear Algebra is all about the colums ... and the rows ... and how they depend on each other\r\n",
    "\r\n",
    "Hört sich doch schon ganz nützlich für Data Science an, oder? "
   ],
   "metadata": {}
  },
  {
   "cell_type": "markdown",
   "source": [
    "## In Python nutzen wir das Package numpy oder scipy, um Lineare Algebra zu machen"
   ],
   "metadata": {}
  },
  {
   "cell_type": "code",
   "execution_count": 23,
   "source": [
    "# numpy\r\n",
    "import numpy as np\r\n",
    "from numpy import linalg as LA\r\n",
    "# pyplot um Grafiken anzuzeigen\r\n",
    "import matplotlib.pyplot as plt"
   ],
   "outputs": [],
   "metadata": {}
  },
  {
   "cell_type": "markdown",
   "source": [
    "# Ein paar Grundbegriffe. (Aber nur ganz wenige.) Was sind ...\r\n",
    "## ... Skalare?\r\n",
    "Skalare sind einfach Zahlen - nur in Sprechweise der Linearen Algebra.\r\n",
    "### Nutzung in Standard-Python"
   ],
   "metadata": {}
  },
  {
   "cell_type": "code",
   "execution_count": 2,
   "source": [
    "a = 5\r\n",
    "print(\"Der Inhalt von b ist \" + str(a))\r\n",
    "print(\"Der Datentyp von b ist \" + str(type(a)))\r\n",
    "print(\"a hat 0 Dimensionen\")"
   ],
   "outputs": [
    {
     "output_type": "stream",
     "name": "stdout",
     "text": [
      "Der Inhalt von b ist 5\n",
      "Der Datentyp von b ist <class 'int'>\n",
      "a hat 0 Dimensionen\n"
     ]
    }
   ],
   "metadata": {
    "tags": []
   }
  },
  {
   "cell_type": "markdown",
   "source": [
    "### Nutzung in numpy"
   ],
   "metadata": {}
  },
  {
   "cell_type": "code",
   "execution_count": 3,
   "source": [
    "b = np.array(6)\r\n",
    "print(\"Der Inhalt von b ist \" + str(b))\r\n",
    "print(\"Der Datentyp von b ist \" + str(type(b)))\r\n",
    "print(\"b hat \" + str(b.ndim) + \" Dimensionen\")"
   ],
   "outputs": [
    {
     "output_type": "stream",
     "name": "stdout",
     "text": [
      "Der Inhalt von b ist 6\n",
      "Der Datentyp von b ist <class 'numpy.ndarray'>\n",
      "b hat 0 Dimensionen\n"
     ]
    }
   ],
   "metadata": {
    "tags": []
   }
  },
  {
   "cell_type": "markdown",
   "source": [
    "## ... Vektoren?\r\n",
    "**Vektoren** sind Zeilen oder Spalten mit Zahlen (Skalaren) - einfach aneinander gereiht.\r\n",
    "\r\n",
    "**Beispiel** : Abverkäufe von Artikeln. Der erste Artikel hat zwei Abverkäufe, der zweite 1 Stück und der dritte Artikel drei."
   ],
   "metadata": {}
  },
  {
   "cell_type": "code",
   "execution_count": 4,
   "source": [
    "v = np.array([2,1,3])\r\n",
    "print(\"Der Inhalt von b ist \" + str(v))\r\n",
    "print(\"Der Datentyp von b ist \" + str(type(v)))\r\n",
    "print(\"b hat \" + str(v.ndim) + \" Dimension\")\r\n",
    "print(\"b hat die Form \" + str(v.shape))"
   ],
   "outputs": [
    {
     "output_type": "stream",
     "name": "stdout",
     "text": [
      "Der Inhalt von b ist [2 1 3]\n",
      "Der Datentyp von b ist <class 'numpy.ndarray'>\n",
      "b hat 1 Dimension\n",
      "b hat die Form (3,)\n"
     ]
    }
   ],
   "metadata": {}
  },
  {
   "cell_type": "markdown",
   "source": [
    "## ... Matrizen?\n",
    "Eine **Matrix** ist eine Anordnung von mehreren Spalten oder Zeilen (= Vektoren). Auch wenn es hier durch die eckigen Klammern anders aussieht: Die Sichtweisen als Kombination von Spalten oder Zeilen sind beide ok.\n",
    "\n",
    "**Beispiel 1** : Abverkäufe von Artikeln (Zeilen) in Märkten (Spalten). In den Zellen stehen die Abverkäufe.\n",
    "\n",
    "**Beispiel 2** : Ähnlichkeiten von Artikeln untereinander. Also Artikel in Zeilen *und* Spalten. In den Zellen stehen die Ähnlichkeiten. (Siehe auch Gilbert Strang (oben): Wie hängen Zeilen und Spalten zusammen?)\n"
   ],
   "metadata": {}
  },
  {
   "cell_type": "code",
   "execution_count": 5,
   "source": [
    "A = np.array([[1,2,3],\r\n",
    "              [4,5,6],\r\n",
    "              [7,8,9]])\r\n",
    "print(\"Der Inhalt von A ist \\n\" + str(A))\r\n",
    "print(\"Der Datentyp von A ist \" + str(type(A)))\r\n",
    "print(\"A hat \" + str(A.ndim) + \" Dimension\")\r\n",
    "print(\"A hat die Form \" + str(A.shape))"
   ],
   "outputs": [
    {
     "output_type": "stream",
     "name": "stdout",
     "text": [
      "Der Inhalt von A ist \n",
      "[[1 2 3]\n",
      " [4 5 6]\n",
      " [7 8 9]]\n",
      "Der Datentyp von A ist <class 'numpy.ndarray'>\n",
      "A hat 2 Dimension\n",
      "A hat die Form (3, 3)\n"
     ]
    }
   ],
   "metadata": {}
  },
  {
   "cell_type": "markdown",
   "source": [
    "## ...Tensoren?\n",
    "Tensoren sind Matrizen auf Steroiden. Ein Skalar hat \"0\" Dimensionen. Ein Vektor hat eine Dimension (eine Zeile oder eine Spalte) und eine Matrix zwei (Zeilen *und* Spalten). Aber was, wenn wir noch mehr Dimensionen benötigen? Guess What? **Tensoren**.\n",
    "\n",
    "Von Tensoren habt Ihr wahrscheinlich schon einmal bei \"TensorFlow\" gehört. Das ist ein Paket mit dem man sehr schnell mit Vektoren, Matrizen und Tensoren rechnen kann. Das geht besonders gut mit Grafik-Karten bzw. deren Prozessoren, den GPUs. Denn bei Call of Duty zocken passiert nichts anderes als Lineare Algebra. :)\n",
    "\n",
    "Das Folgende Beispiel muss man sich wie einen dreidimensionalen Quader vorstellen - mit zwei Matrizen übereinander."
   ],
   "metadata": {}
  },
  {
   "cell_type": "code",
   "execution_count": 6,
   "source": [
    "T = np.array([[[1,2,3],\r\n",
    "               [4,5,6],\r\n",
    "               [7,8,9]],\r\n",
    "              [[10,11,12],\r\n",
    "              [13,14,15],\r\n",
    "              [16,17,18]]])\r\n",
    "print(\"Der Inhalt von T ist \\n\" + str(T))\r\n",
    "print(\"Der Datentyp von T ist \" + str(type(T)))\r\n",
    "print(\"T hat \" + str(T.ndim) + \" Dimension\")\r\n",
    "print(\"T hat die Form \" + str(T.shape))"
   ],
   "outputs": [
    {
     "output_type": "stream",
     "name": "stdout",
     "text": [
      "Der Inhalt von T ist \n",
      "[[[ 1  2  3]\n",
      "  [ 4  5  6]\n",
      "  [ 7  8  9]]\n",
      "\n",
      " [[10 11 12]\n",
      "  [13 14 15]\n",
      "  [16 17 18]]]\n",
      "Der Datentyp von T ist <class 'numpy.ndarray'>\n",
      "T hat 3 Dimension\n",
      "T hat die Form (2, 3, 3)\n"
     ]
    }
   ],
   "metadata": {}
  },
  {
   "cell_type": "markdown",
   "source": [
    "## Warum denn Vektoren, Matrizen und Tensoren statt good old Tabellen?\n",
    "|Eigenschaft|Tabellen|Matrizen|\n",
    "|----|----|----|\n",
    "|Datentypen|mehrere Möglich - je Spalte einer|nur ein Datentyp möglich|\n",
    "|Operationen|Beschränkt auf SQL - sinnvoll bei einfachen Rechenoperationen|Rechenoperationen, die komplexe Operationen kapseln|\n",
    "|Geschwindigkeit|eher langsam|schnell|\n",
    "|Persistenz|Gut, um Daten zu speichern|Gut, um mit Daten zu rechnen|\n",
    "|Komplexität|Summen/Mittelwerte in vielen Dimensionen|Zusammenhänge zwischen vielen Dimensionen|"
   ],
   "metadata": {}
  },
  {
   "cell_type": "markdown",
   "source": [
    "# Total realistisches Praxisbeispiel: Zombie-Apokalypse in Deiner Analytics-Abteilung"
   ],
   "metadata": {
    "tags": []
   }
  },
  {
   "cell_type": "markdown",
   "source": [
    "## Setting"
   ],
   "metadata": {}
  },
  {
   "cell_type": "code",
   "execution_count": 7,
   "source": [
    "# A&T besteht aus 100 Personen, am ersten Tag ist eine Person ist ein Zombie\r\n",
    "\r\n",
    "z = 1\r\n",
    "g = 99\r\n",
    "\r\n",
    "# basteln wir mal eine Vektor daraus\r\n",
    "\r\n",
    "at_erster_tag = np.array([z, g])\r\n",
    "print(at_erster_tag)"
   ],
   "outputs": [
    {
     "output_type": "stream",
     "name": "stdout",
     "text": [
      "[ 1 99]\n"
     ]
    }
   ],
   "metadata": {}
  },
  {
   "cell_type": "code",
   "execution_count": 8,
   "source": [
    "# Wahrscheinlichkeiten pro Tag\r\n",
    "\r\n",
    "zz = 0.9 # Zombie bleiben\r\n",
    "zg = 0.1 # Zombie erholt sich und wird gesund\r\n",
    "\r\n",
    "gg = 0.8 # Gesunde Person bleibt gesund\r\n",
    "gz = 0.2 # Gesunde Person wird von Zombie gebissen\r\n",
    "\r\n",
    "#                        heute Zombie  heute gesund\r\n",
    "#                                  vv  vv\r\n",
    "zombifizierungmatrix =  np.array([[zz, gz],  # <- am nächsten Tag Zombie\r\n",
    "                                  [zg, gg]]) # <- am nächsten Tag gesund\r\n",
    "print(zombifizierungmatrix)"
   ],
   "outputs": [
    {
     "output_type": "stream",
     "name": "stdout",
     "text": [
      "[[0.9 0.2]\n",
      " [0.1 0.8]]\n"
     ]
    }
   ],
   "metadata": {}
  },
  {
   "cell_type": "markdown",
   "source": [
    "## The Zu-Fuß-Way\n",
    "Dann rechnen wir mal zu Fuß! Wir nehmen uns die Variablen oben und und multipizieren und addieren uns die Zahlen für den nächsten Tag zusammen."
   ],
   "metadata": {}
  },
  {
   "cell_type": "code",
   "execution_count": 9,
   "source": [
    "z_zweiter_tag = z * zz + g * gz # Die Zombies, die welche bleiben plus die Gesunden, die Zombies werden.\r\n",
    "g_zweiter_tag = g * gg + z * zg # Die Gesunden, die welche bleiben plus die Zombies, die Gesund werden.\r\n",
    "print(f\"Es gibt am 2. Tag {z_zweiter_tag:2.4} Zombies und {g_zweiter_tag:2.4} Gesunde. Es gibt {(z_zweiter_tag/g_zweiter_tag):2.4} mal mehr Zombies als Gesunde.\")"
   ],
   "outputs": [
    {
     "output_type": "stream",
     "name": "stdout",
     "text": [
      "Es gibt am 2. Tag 20.7 Zombies und 79.3 Gesunde. Es gibt 0.261 mal mehr Zombies als Gesunde.\n"
     ]
    }
   ],
   "metadata": {}
  },
  {
   "cell_type": "markdown",
   "source": [
    "Okay, das ging ja noch! Jetzt müssen wir noch zwei Probleme tacklen:\n",
    "\n",
    "1. Was, wenn wir 500 Artikel und nicht 2 Gruppen haben? Das wird nicht funktionieren! Bedeutet: Das Vorgehen **skaliert nicht mit der Vektorgröße**.\n",
    "2. Wie sieht es denn nach 20 Tagen aus? Bedeutet: Das Vorgehen **skaliert nicht im Zeitverlauf**.\n",
    "\n"
   ],
   "metadata": {}
  },
  {
   "cell_type": "markdown",
   "source": [
    "## The Lineare-Algebra-Way\r\n",
    "Wenn Du Dir die Rechnung für die Zombies am nächsten Tag oben anschaust, fällt Dir vielleicht auf, dass Dir die Formel schon einmal untergekommen ist. Es ist das Punktprodukt zwischen zwei Vektoren: Nämlich dem Vektor `at_erster_tag` mit der ersten Zeile der Matrix `zombifizierungmatrix[0,:] = [0.9 0.2]` . (In Excel nennt sich die Formel übrigens `SUMMENPRODUKT()`). Probieren wir das doch mal aus! Das Punktprodukt wird bei dem Datentyp `ndarray` mit dem Zeichen `@` ausgedrückt."
   ],
   "metadata": {}
  },
  {
   "cell_type": "code",
   "execution_count": 10,
   "source": [
    "z_zweiter_tag = at_erster_tag @ zombifizierungmatrix[0,:]\r\n",
    "g_zweiter_tag = at_erster_tag @ zombifizierungmatrix[1,:]\r\n",
    "print(f\"Es gibt am 2. Tag {z_zweiter_tag:2.4} Zombies und {g_zweiter_tag:2.4} Gesunde. Es gibt {(z_zweiter_tag/g_zweiter_tag):2.4} mal mehr Zombies als Gesunde.\")"
   ],
   "outputs": [
    {
     "output_type": "stream",
     "name": "stdout",
     "text": [
      "Es gibt am 2. Tag 20.7 Zombies und 79.3 Gesunde. Es gibt 0.261 mal mehr Zombies als Gesunde.\n"
     ]
    }
   ],
   "metadata": {}
  },
  {
   "cell_type": "markdown",
   "source": [
    "Hmmmmmm... So richtig was gewonnen haben wir jetzt noch nicht, oder? Wir haben jetzt etwas eleganteren Code und haben uns gespart, die Spalten der Matrix durchgehen zum müssen. Aber bei Problem 1 und 2 ist uns noch nicht viel geholfen. Überlegen wir erstmal zu Problem 1: Wäre es nicht cool, wenn man das nicht für jede Komponente des Vektors einzeln machen müsste? Auch das geht mit dem Zeichen `@`. "
   ],
   "metadata": {}
  },
  {
   "cell_type": "markdown",
   "source": [
    "### Die Matrixmultiplikation"
   ],
   "metadata": {}
  },
  {
   "cell_type": "markdown",
   "source": [
    "Das `@` bedeutet nämlich **Matrixmultiplikation**. Das Punktprodukt ist nur ein Spezialfall, wenn wenn beide Matizen nur eine Spalte oder eine Zeile haben. Wir können jetzt einfach den Vektor mit der Matrix multiplizieren und *zack* - das Ergebnis ist da! (In Excel nennt sich die Formel übrigens `MMULT()`)"
   ],
   "metadata": {}
  },
  {
   "cell_type": "code",
   "execution_count": 11,
   "source": [
    "at_zweiter_tag = zombifizierungmatrix @ at_erster_tag\r\n",
    "print(f\"Es gibt am 2. Tag {at_zweiter_tag[0]:2.4} Zombies und {at_zweiter_tag[1]:2.4} Gesunde. Es gibt {(at_zweiter_tag[0]/at_zweiter_tag[1]):2.4} mal mehr Zombies als Gesunde.\")"
   ],
   "outputs": [
    {
     "output_type": "stream",
     "name": "stdout",
     "text": [
      "Es gibt am 2. Tag 20.7 Zombies und 79.3 Gesunde. Es gibt 0.261 mal mehr Zombies als Gesunde.\n"
     ]
    }
   ],
   "metadata": {}
  },
  {
   "cell_type": "markdown",
   "source": [
    "Wir haben jetzt \"nur\" eine Zeile Code gespart. Aber bei 500 Artikeln hätten wir 499 Zeilen Code gespart. Das ist doch was! Wir haben jetzt eine - Achtung! - Operation gefunden, die immer funktioniert - egal wie lang der Vektor ist. Das ist besonders praktisch, weil wir zur Laufzeit ja häufig gar nicht wissen, mit wie vielen Artikeln oder Kunden oder Märkten oder whatever wir es zu tun haben. \n",
    "\n",
    "Zurück zur Theorie und speaking of **\"Operation\"**: Du erinnerst Dich? Ganz am Anfang habe ich geschrieben, dass sich die Algebra mit Rechenoperationen und deren Eigenschaften beschäftigt. Ich hoffe, das ist jetzt schon weniger abstrakt geworden. (Auch wenn wir uns die Eigenschaften, gleich noch einmal genauer angucken müssen.) Ich habe auch geschrieben, dass nicht immer Zahlen Gegenstand einer Operation sein müssen. In unserem Fall haben wir eine Abteilung am ersten Tag mit einer Zombifizierung \"multipliziert\" und die Abteilung am zweiten Tag erhalten. Verrückt, oder? Oder anders ausgedrückt: \"matrices do things to vectors\". Genau das ist die Magic der Linearen Algebra! :) \n",
    "\n",
    "Die Matrixmultiplikation ist wirklich eine ganz tolle Operation. Sie ist so vielfältig, dass man fast keine anderen Operationen benötigt. Sie kann z.B. Vektoren verlängern und drehen. Sie kann prognostizieren, wie die Welt am nächsten Tag aussieht - sowohl beim Wetter als auch bei Zombies. Sie kann Zeilen oder Spalten von anderen Matrizen vertauschen, addieren und subtrahieren. Sie kann Gleichungssysteme lösen und so vieles mehr! Aber Eines nach dem Anderen...\n",
    "\n",
    "Uff! Problem 1 wäre also gelöst! Jetzt zu Problem 2: Wie sieht es denn am 20. Tag aus? Dafür gibt es drei Lösungen:\n",
    "1. **Der Controller**: Einmal (im Taschenrechner) multiplizieren und dann 20 mal auf die `=`-Taste kloppen.\n",
    "2. **Der Informatiker**: Eine `for`-Schleife drum schnüren und gut is.\n",
    "3. **Der Ingenieur**: even more Lineare Algebra! <3\n",
    "4. (**Der Mathematiker**: Könnte uns beweisen, warum das alles so ist.)\n",
    "\n",
    "Okay, starten wir mit dem **Controller**. Die Idee wäre jetzt, die Multiplikation mehrfach auszuführen. Zunächst definieren wir den ersten Tag als \"heute\" und gehen dann in der Zeit immer weiter in die Zukunft."
   ],
   "metadata": {}
  },
  {
   "cell_type": "code",
   "execution_count": 12,
   "source": [
    "at_heute = at_erster_tag"
   ],
   "outputs": [],
   "metadata": {}
  },
  {
   "cell_type": "markdown",
   "source": [
    "Führe die folgende Zelle mehrfach mit `Strg-Enter` aus. Wenn Du zurück zum Start möchtest, führe die obige Zelle noch einmal aus. Fällt Dir schon etwas auf? Wenn ja, merk's Dir! Wir kommen gleich darauf zurück."
   ],
   "metadata": {}
  },
  {
   "cell_type": "code",
   "execution_count": 49,
   "source": [
    "at_morgen = zombifizierungmatrix @ at_heute # Hier berechnen wie den Zombie-Count von morgen\r\n",
    "print(f\"Es gibt {at_morgen[0]:2.4} Zombies und {at_morgen[1]:2.4} Gesunde. Es gibt {(at_morgen[0]/at_morgen[1]):2.4} mal mehr Zombies als Gesunde.\") # Wir geben den Count aus\r\n",
    "at_heute = at_morgen # Wir gehen eine Tag in die Zukunft indem wir heute = morgen setzen. #TomorrowIsTheNewToday "
   ],
   "outputs": [
    {
     "output_type": "stream",
     "name": "stdout",
     "text": [
      "Es gibt 66.66 Zombies und 33.34 Gesunde. Es gibt 2.0 mal mehr Zombies als Gesunde.\n"
     ]
    }
   ],
   "metadata": {}
  },
  {
   "cell_type": "markdown",
   "source": [
    "Jetzt zum **Informatiker**: 20 mal Enter drücken, kann man doch auch automatisieren, oder? Los geht's! Dabei hilft uns die zweitbekannteste Schleife der Welt: Die `for`-Loop."
   ],
   "metadata": {}
  },
  {
   "cell_type": "code",
   "execution_count": 14,
   "source": [
    "def zombifizierung(start_werte, z_matrix, days: int, verbose = False):\r\n",
    "    at_heute = start_werte\r\n",
    "    ergebnis_historie = []\r\n",
    "\r\n",
    "    for i in range(days) :\r\n",
    "        at_morgen = z_matrix @ at_heute # Hier berechnen wie den Zombie-Count von morgen\r\n",
    "        if verbose:\r\n",
    "            print(f\"Es gibt am {i+1}. Tag {at_morgen[0]:2.4} Zombies und {at_morgen[1]:2.4} Gesunde. Es gibt {(at_morgen[0]/at_morgen[1]):2.4} mal mehr Zombies als Gesunde.\") # Wir geben den Count aus\r\n",
    "        ergebnis_historie.append(at_morgen) # Historie wegschreiben\r\n",
    "        at_heute = at_morgen # Wir gehen einen Tag in die Zukunft indem wir heute = morgen setzen. #TomorrowIsTheNewToday \r\n",
    "\r\n",
    "    return np.array(ergebnis_historie)\r\n",
    "\r\n",
    "ergebnis_historie = zombifizierung(at_erster_tag, zombifizierungmatrix, 20, True)"
   ],
   "outputs": [
    {
     "output_type": "stream",
     "name": "stdout",
     "text": [
      "Es gibt am 1. Tag 20.7 Zombies und 79.3 Gesunde. Es gibt 0.261 mal mehr Zombies als Gesunde.\n",
      "Es gibt am 2. Tag 34.49 Zombies und 65.51 Gesunde. Es gibt 0.5265 mal mehr Zombies als Gesunde.\n",
      "Es gibt am 3. Tag 44.14 Zombies und 55.86 Gesunde. Es gibt 0.7903 mal mehr Zombies als Gesunde.\n",
      "Es gibt am 4. Tag 50.9 Zombies und 49.1 Gesunde. Es gibt 1.037 mal mehr Zombies als Gesunde.\n",
      "Es gibt am 5. Tag 55.63 Zombies und 44.37 Gesunde. Es gibt 1.254 mal mehr Zombies als Gesunde.\n",
      "Es gibt am 6. Tag 58.94 Zombies und 41.06 Gesunde. Es gibt 1.436 mal mehr Zombies als Gesunde.\n",
      "Es gibt am 7. Tag 61.26 Zombies und 38.74 Gesunde. Es gibt 1.581 mal mehr Zombies als Gesunde.\n",
      "Es gibt am 8. Tag 62.88 Zombies und 37.12 Gesunde. Es gibt 1.694 mal mehr Zombies als Gesunde.\n",
      "Es gibt am 9. Tag 64.02 Zombies und 35.98 Gesunde. Es gibt 1.779 mal mehr Zombies als Gesunde.\n",
      "Es gibt am 10. Tag 64.81 Zombies und 35.19 Gesunde. Es gibt 1.842 mal mehr Zombies als Gesunde.\n",
      "Es gibt am 11. Tag 65.37 Zombies und 34.63 Gesunde. Es gibt 1.888 mal mehr Zombies als Gesunde.\n",
      "Es gibt am 12. Tag 65.76 Zombies und 34.24 Gesunde. Es gibt 1.92 mal mehr Zombies als Gesunde.\n",
      "Es gibt am 13. Tag 66.03 Zombies und 33.97 Gesunde. Es gibt 1.944 mal mehr Zombies als Gesunde.\n",
      "Es gibt am 14. Tag 66.22 Zombies und 33.78 Gesunde. Es gibt 1.96 mal mehr Zombies als Gesunde.\n",
      "Es gibt am 15. Tag 66.35 Zombies und 33.65 Gesunde. Es gibt 1.972 mal mehr Zombies als Gesunde.\n",
      "Es gibt am 16. Tag 66.45 Zombies und 33.55 Gesunde. Es gibt 1.98 mal mehr Zombies als Gesunde.\n",
      "Es gibt am 17. Tag 66.51 Zombies und 33.49 Gesunde. Es gibt 1.986 mal mehr Zombies als Gesunde.\n",
      "Es gibt am 18. Tag 66.56 Zombies und 33.44 Gesunde. Es gibt 1.99 mal mehr Zombies als Gesunde.\n",
      "Es gibt am 19. Tag 66.59 Zombies und 33.41 Gesunde. Es gibt 1.993 mal mehr Zombies als Gesunde.\n",
      "Es gibt am 20. Tag 66.61 Zombies und 33.39 Gesunde. Es gibt 1.995 mal mehr Zombies als Gesunde.\n"
     ]
    }
   ],
   "metadata": {}
  },
  {
   "cell_type": "markdown",
   "source": [
    "Interessant! Das Ding scheint gegen ein bestimmtes Verhältniss von 2/3 zu 1/3 zu konvergieren! Es gibt also wahrscheinlich langfristig gesehen zwei mal mehr Zombies als Gesunde. **Plotten wir uns das doch mal.**"
   ],
   "metadata": {}
  },
  {
   "cell_type": "code",
   "execution_count": 15,
   "source": [
    "ergebnis_hist = zombifizierung(at_erster_tag, zombifizierungmatrix, 20)\r\n",
    "\r\n",
    "def create_zombie_plots(ergebnis_historie):\r\n",
    "    ax1.plot(ergebnis_historie)\r\n",
    "    ax1.set_title('Zombies vs. Gesund im Zeitverlauf')\r\n",
    "    ax1.set_ylabel('Anzahl Personen')\r\n",
    "    ax1.set_xlabel('Zeit in Tagen')\r\n",
    "    ax1.legend(['Zombies','Gesunde'])\r\n",
    "  #  ax1.set_ylim(0,100)\r\n",
    "    ax2.scatter(ergebnis_historie[:,0], ergebnis_historie[:,1], s=12)\r\n",
    "    ax2.set_title('Zombies vs. Gesund im Zeitverlauf')\r\n",
    "    ax2.set_xlabel('Anzahl Zombies')\r\n",
    "    ax2.set_ylabel('Anzahl Gesunde')\r\n",
    "    ax2.set_ylim(0,100)\r\n",
    "    ax2.set_xlim(0,100)\r\n",
    "    ax3.plot(np.array(ergebnis_historie)[:,0]/np.array(ergebnis_historie)[:,1])\r\n",
    "    ax3.set_title('Verhältnis Zombies vs. Gesund im Zeitverlauf')\r\n",
    "    ax1.set_xlabel('Zeit in Tagen')\r\n",
    "\r\n",
    "fig, (ax1, ax2, ax3) = plt.subplots(1, 3, figsize=(18, 6))\r\n",
    "create_zombie_plots(ergebnis_hist)\r\n",
    "fig.show()"
   ],
   "outputs": [
    {
     "output_type": "stream",
     "name": "stderr",
     "text": [
      "C:\\Users\\a0f20d1\\AppData\\Local\\Packages\\PythonSoftwareFoundation.Python.3.7_qbz5n2kfra8p0\\LocalCache\\local-packages\\Python37\\site-packages\\ipykernel_launcher.py:25: UserWarning: Matplotlib is currently using module://matplotlib_inline.backend_inline, which is a non-GUI backend, so cannot show the figure.\n"
     ]
    },
    {
     "output_type": "display_data",
     "data": {
      "image/png": "[encoded data removed]",
      "text/plain": [
       "<Figure size 1296x432 with 3 Axes>"
      ]
     },
     "metadata": {
      "needs_background": "light"
     }
    }
   ],
   "metadata": {}
  },
  {
   "cell_type": "markdown",
   "source": [
    "Okay, das pendelt sich wirklich stark ein. Jetzt fragen wir uns natürlich, was passiert, wenn wir mit anderen Startwerten beginnen würden? Fangen wir mal mit 99 Zombies und einem Gesunden an."
   ],
   "metadata": {}
  },
  {
   "cell_type": "code",
   "execution_count": 16,
   "source": [
    "alternativer_erster_tag = np.array([99, 1]) # Starten wir mal mit 99 Zombies und einer gesunden Person\r\n",
    "ergebnis_hist2 = zombifizierung(alternativer_erster_tag, zombifizierungmatrix, 20)\r\n",
    "\r\n",
    "fig, (ax1, ax2, ax3) = plt.subplots(1, 3, figsize=(18, 6))\r\n",
    "create_zombie_plots(ergebnis_hist)\r\n",
    "create_zombie_plots(ergebnis_hist2)\r\n",
    "fig.show()"
   ],
   "outputs": [
    {
     "output_type": "stream",
     "name": "stderr",
     "text": [
      "C:\\Users\\a0f20d1\\AppData\\Local\\Packages\\PythonSoftwareFoundation.Python.3.7_qbz5n2kfra8p0\\LocalCache\\local-packages\\Python37\\site-packages\\ipykernel_launcher.py:7: UserWarning: Matplotlib is currently using module://matplotlib_inline.backend_inline, which is a non-GUI backend, so cannot show the figure.\n",
      "  import sys\n"
     ]
    },
    {
     "output_type": "display_data",
     "data": {
      "image/png": "[encoded data removed]",
      "text/plain": [
       "<Figure size 1296x432 with 3 Axes>"
      ]
     },
     "metadata": {
      "needs_background": "light"
     }
    }
   ],
   "metadata": {}
  },
  {
   "cell_type": "markdown",
   "source": [
    "Es pendelt sich auch auch bei den gleichen Werten ein! Machen wir noch einen Versuch: Was wäre, wenn unsere Abteilung weniger Mitarbeiter hätte?"
   ],
   "metadata": {}
  },
  {
   "cell_type": "code",
   "execution_count": 17,
   "source": [
    "alternativer_erster_tag = np.array([1, 49]) # 50 Mitarbeiter:innen\r\n",
    "ergebnis_hist3 = zombifizierung(alternativer_erster_tag, zombifizierungmatrix, 20)\r\n",
    "alternativer_erster_tag = np.array([39, 1]) # 50 Mitarbeiter:innen\r\n",
    "ergebnis_hist4 = zombifizierung(alternativer_erster_tag, zombifizierungmatrix, 20)\r\n",
    "\r\n",
    "fig, (ax1, ax2, ax3) = plt.subplots(1, 3, figsize=(18, 6))\r\n",
    "create_zombie_plots(ergebnis_hist)\r\n",
    "create_zombie_plots(ergebnis_hist2)\r\n",
    "create_zombie_plots(ergebnis_hist3)\r\n",
    "create_zombie_plots(ergebnis_hist4)\r\n",
    "ax2.axline((0,0),(100,50), marker = 'o')\r\n",
    "fig.show()"
   ],
   "outputs": [
    {
     "output_type": "stream",
     "name": "stderr",
     "text": [
      "C:\\Users\\a0f20d1\\AppData\\Local\\Packages\\PythonSoftwareFoundation.Python.3.7_qbz5n2kfra8p0\\LocalCache\\local-packages\\Python37\\site-packages\\ipykernel_launcher.py:12: UserWarning: Matplotlib is currently using module://matplotlib_inline.backend_inline, which is a non-GUI backend, so cannot show the figure.\n",
      "  if sys.path[0] == '':\n"
     ]
    },
    {
     "output_type": "display_data",
     "data": {
      "image/png": "[encoded data removed]",
      "text/plain": [
       "<Figure size 1296x432 with 3 Axes>"
      ]
     },
     "metadata": {
      "needs_background": "light"
     }
    }
   ],
   "metadata": {}
  },
  {
   "cell_type": "markdown",
   "source": [
    "Wir haben jetzt also nicht nur die Verhältnis von Zombies und Gesunden geändert, sondern auch die Abteilungsgröße. Schauen wir uns die Grafiken mal an!\r\n",
    "1. Das sieht ganz schön wild aus. Man sieht zumindest, dass die Werte auch bei unterschiedlichen Abteilungsgrößen konvergieren.\r\n",
    "2. Die blauen und gelben Punkte sind gleich geblieben, sie konvergieren weiterhin zum Punkt (66.7, 33.3). Wenn wir die Abteilungsgröße jedoch auf 50 (grün) oder 40 (rot) reduzieren, konvergieren die Punktfolgen gegen einen anderen Punkt. Das ist ja auch logisch, da die Summe aus Zombies und Gesunden immer die Abteilungsgröße ergeben muss. Uns fällt aber auf, dass sich die Punkte alle zur eingezeichneten Linie mit der Steigung von 1/3 bewegen. Das bedeutet nicht anderes als dass...\r\n",
    "3. ...  Zombies und Gesunde letztendlich immer im Verhältnis 2:1 vorliegen!\r\n",
    "\r\n",
    "Das ist ein Kracher! Überleg mal! Egal welchen Vektor wir in die Matrix kippen: wenn wir nur lange genug multiplizieren, kommt immer das verhältnis 2:1 raus. Das bedeutet, dass diese Verhältnis eine Eigeschaft der Matrix ist, und nicht des Vektors. Oder anders ausgedrückt: Wenn wir einen Vektor mit den Komponenten im Verhältnis 2:1 (also z.B. 200 Zombies und 100 Gesunde) mit der Matrix multiplizieren bleibt der Vektor gleich!\\* \r\n",
    "\r\n",
    "Vektoren, die nach eine Multiplikation mit einer Matrix gleich\\* bleiben, nennen sich **Eigenvektoren**. Wie Du siehts, sind diese Vektoren super-nützlich!\r\n",
    "\r\n",
    "Lass uns das doch direkt mal mit dem Verhältnis 200:100 ausprobieren!\r\n",
    "\r\n",
    "\\*(*Terms & Conditions may apply. Später dazu mehr.*)"
   ],
   "metadata": {}
  },
  {
   "cell_type": "code",
   "execution_count": 50,
   "source": [
    "alternativer_erster_tag = np.array([200, 100]) # 300 Mitarbeiter:innen\r\n",
    "ergebnis_hist5 = zombifizierung(alternativer_erster_tag, zombifizierungmatrix, 20)\r\n",
    "\r\n",
    "fig, (ax1, ax2, ax3) = plt.subplots(1, 3, figsize=(18, 6))\r\n",
    "create_zombie_plots(ergebnis_hist5)\r\n",
    "ax2.axline((0,0),(100,50), marker = 'o')\r\n",
    "fig.show()"
   ],
   "outputs": [
    {
     "output_type": "stream",
     "name": "stderr",
     "text": [
      "C:\\Users\\a0f20d1\\AppData\\Local\\Packages\\PythonSoftwareFoundation.Python.3.7_qbz5n2kfra8p0\\LocalCache\\local-packages\\Python37\\site-packages\\ipykernel_launcher.py:7: UserWarning: Matplotlib is currently using module://matplotlib_inline.backend_inline, which is a non-GUI backend, so cannot show the figure.\n",
      "  import sys\n"
     ]
    },
    {
     "output_type": "display_data",
     "data": {
      "image/png": "[encoded data removed]",
      "text/plain": [
       "<Figure size 1296x432 with 3 Axes>"
      ]
     },
     "metadata": {
      "needs_background": "light"
     }
    }
   ],
   "metadata": {}
  },
  {
   "cell_type": "markdown",
   "source": [
    "### Eigenstuff\r\n",
    "\r\n",
    "Yup, wie vermutet: Wir sehen keine Veränderung, weil direkt den **Eigenvektor** per Multiplikation in die Matrix gekippt haben. Durch die Multiplikation passiert also nichts mehr. Genau so ist ein Eigenvektor ja auch definiert-ish. Wie würde ein **Engineer** an die Sache ran gehen? Das coole an der Sache ist, dass man den ganzen Kram nicht selber coden muss. Dafür gibt es recht effiziente Verfahren. Hier nutzen wir z.b. das Package `linalg` aus `numpy`."
   ],
   "metadata": {}
  },
  {
   "cell_type": "code",
   "execution_count": 51,
   "source": [
    "(eigvals, eigvectors) = LA.eig(zombifizierungmatrix)\r\n",
    "print(eigvectors)"
   ],
   "outputs": [
    {
     "output_type": "stream",
     "name": "stdout",
     "text": [
      "[[ 0.89442719 -0.70710678]\n",
      " [ 0.4472136   0.70710678]]\n"
     ]
    }
   ],
   "metadata": {}
  },
  {
   "cell_type": "markdown",
   "source": [
    "Puh! Was bedeutet das denn jetzt? Jetzt hatte ich versprochen, dass direkt das Ergebnis rauskommt und dann erkennt man hier nichts!?! Okay, keine Panik. Schauen wir uns mal den ersten Vektor genauer an:"
   ],
   "metadata": {}
  },
  {
   "cell_type": "code",
   "execution_count": 54,
   "source": [
    "evec1 = eigvectors[:,0]\r\n",
    "print(evec1)"
   ],
   "outputs": [
    {
     "output_type": "stream",
     "name": "stdout",
     "text": [
      "[0.89442719 0.4472136 ]\n"
     ]
    }
   ],
   "metadata": {}
  },
  {
   "cell_type": "markdown",
   "source": [
    "Vielleicht fällt uns ja doch etwas auf? Die erste Zahl ist wieder doppelt so groß wie die zweite. Also sehen wir hier wieder das verhältnis von 2:1! Aber warum mit so komischen Zahlen? Naja, woher soll die Matrix denn wissen, wie viele Mitarbeiter die Abteilung hat? Sie hat den Vektor ja noch nie gesehen. Sie kann also nur das Verhältnis der beiden Komponenten bestimmen. Deshalb werden sie immer auf eine Länge von '1' normiert.\r\n",
    "\r\n",
    "\"Aber häääää\", magst Du Dich fragen, \"wo ist die länge des Vektors denn bitte eine 1\"? Tja, das ist direkt schon ein super Bespiel für die \"Norm\" eines Vektors. Daher auch das Wort \"normieren\". Man sagt dann auch die L2-Norm des Vektors A ist |A|. Also kurzer Exkurs zu Normen. Ergänzend gerne auch\r\n",
    "\r\n",
    "Wie in der Schule rechnen wir bei Vektoren häufig im Euklidischen Raum und wir berechnen die Länge eines Vektors mit dem Satz des Pythagoras: `a² + b² = c²`. Das ist unserem Alltagsverständnis total nah. Wenn ich drei Schritte nach rechts mache und 4 Schritte nach vorne bin soweit von meinem Ausgangspunkt entfernt als wenn ich direkt 5 Schritte dorthin gelaufen wäre.\r\n",
    "\r\n",
    "![pythagoras](https://assets.serlo.org/5ece952f63b77_f8b9302d651fb979ee0300da69c7a733c28e3419.svg)\r\n",
    "\r\n",
    "Probieren wir doch mal aus, ob das klappt: Pythagoras nach c umformen und mal sehen, was passiert:"
   ],
   "metadata": {}
  },
  {
   "cell_type": "code",
   "execution_count": 62,
   "source": [
    "print((evec1[0]**2 + evec1[1]**2)**0.5)"
   ],
   "outputs": [
    {
     "output_type": "stream",
     "name": "stdout",
     "text": [
      "1.0\n"
     ]
    }
   ],
   "metadata": {}
  },
  {
   "cell_type": "markdown",
   "source": [
    "Also das scheint zu funktionieren. Der Vektor ist wirklich genau \"1\" lang. Jetzt wo wir das wissen, könnten wir die Werte so umrechnen, dass die Prozentverhältnisse von 1/3 zu 2/3 herauskommen. Aber woran liegt es denn, dass unsere natürliche Intuition was Distanzen und längen angeht bei der Zombieapokalypse nicht ganz greift? Experimentieren wir doch mal etwas rum. Wir benutzen hierzu die Funktion `norm` aus dem Pakage numpy. (Wir haben also wieder umsonst gecoded - gibst schon...)\r\n",
    "\r\n",
    "Schritt 1: Ganz easy-peasy. Ich mache einen Schritt nach rechts und einen nach vorne. Wie weit bin ich vom Ursprungspunkt weg?"
   ],
   "metadata": {}
  },
  {
   "cell_type": "code",
   "execution_count": 63,
   "source": [
    "LA.norm([1,1], 2)"
   ],
   "outputs": [
    {
     "output_type": "execute_result",
     "data": {
      "text/plain": [
       "1.4142135623730951"
      ]
     },
     "metadata": {},
     "execution_count": 63
    }
   ],
   "metadata": {}
  },
  {
   "cell_type": "markdown",
   "source": [
    "Das passt: ca. 1,4 Schritte - also Wurzel(2).\r\n",
    "\r\n",
    "Schritt 2. Das gleiche in noch mal in grün: Ich habe einen Zombie und einen Gesunden hinzugewonnen. Viele Personen habe ich jetzt mehr?"
   ],
   "metadata": {}
  },
  {
   "cell_type": "code",
   "execution_count": 64,
   "source": [
    "LA.norm([1,1], 2)"
   ],
   "outputs": [
    {
     "output_type": "execute_result",
     "data": {
      "text/plain": [
       "1.4142135623730951"
      ]
     },
     "metadata": {},
     "execution_count": 64
    }
   ],
   "metadata": {}
  },
  {
   "cell_type": "markdown",
   "source": [
    "Das macht jetzt keinen Sinn mehr. Ich habe ja zwei Personen mehr und nicht 1,4! Das heißt der Unterschied liegt in der *Bedeutung*, was die Komponenten des Vektors aussagen. Anstelle zu fragen, \"Wie viele Schritte bin ich vom Ursprung entfernt?\" (1,4) könnte ich ja auch fragen \"Wie viele Schritte bin ich gelaufen?\" (2). Im zweiten Fall muss ich ja einfach nur die Komponenten des Vektors addieren. Diesen Unterschied zu treffen, ermöglicht uns der Wechsel von der L2-Norm auf die L1-Norm. Dafür müssen wir den zweiten Parameter in der Norm-Funktion auf \"1\" ändern. `LA.norm([1,1], 1)`"
   ],
   "metadata": {}
  },
  {
   "cell_type": "code",
   "execution_count": 65,
   "source": [
    "LA.norm([1,1], 1)"
   ],
   "outputs": [
    {
     "output_type": "execute_result",
     "data": {
      "text/plain": [
       "2.0"
      ]
     },
     "metadata": {},
     "execution_count": 65
    }
   ],
   "metadata": {}
  },
  {
   "cell_type": "markdown",
   "source": [
    "Okay, passt jetzt. Ein gutes YouTube-Video dazu findest Du [hier](https://www.youtube.com/watch?v=FiSy6zWDfiA). Was ganz witzig ist, das Du diese beiden Konzepte wahrscheinlich schon längst kennst.\r\n",
    "- Bei Regularisierung in Regressionen: L1-Regularierung = LASSO-Regression, L2-Regularisierung = Ridge-Regression\r\n",
    "- Bei Clusterverfahren: L1-Distanz = Manhatten-Distanz, L2-Distanz = Euklidische Distanz"
   ],
   "metadata": {}
  },
  {
   "cell_type": "code",
   "execution_count": null,
   "source": [
    "# ------------- ab hier \"nur\" Ideen..."
   ],
   "outputs": [],
   "metadata": {}
  },
  {
   "cell_type": "code",
   "execution_count": 21,
   "source": [
    "# Eigenwerte\r\n",
    "\r\n",
    "eval1 = eigvals[0]\r\n",
    "eval1"
   ],
   "outputs": [
    {
     "output_type": "stream",
     "name": "stdout",
     "text": [
      "1.0\n"
     ]
    },
    {
     "output_type": "execute_result",
     "data": {
      "text/plain": [
       "1.0"
      ]
     },
     "metadata": {},
     "execution_count": 21
    }
   ],
   "metadata": {}
  },
  {
   "cell_type": "code",
   "execution_count": 66,
   "source": [
    "# Letzen Punkt als vektor einzeichnen\r\n",
    "# funktion als schleife machen\r\n",
    "# input variieren\r\n",
    "# grafiken machen\r\n",
    "# Norm eines vektors?\r\n",
    "# eigen stuff erklären\r\n",
    "# page rank\r\n",
    "# SVD\r\n",
    "# PCA\r\n"
   ],
   "outputs": [],
   "metadata": {}
  },
  {
   "cell_type": "code",
   "execution_count": null,
   "source": [
    "A@evec1"
   ],
   "outputs": [],
   "metadata": {}
  },
  {
   "cell_type": "code",
   "execution_count": null,
   "source": [
    "# Immer wieder neu ausführen\r\n",
    "aneu = A@aneu\r\n",
    "print(aneu)"
   ],
   "outputs": [],
   "metadata": {}
  },
  {
   "cell_type": "markdown",
   "source": [
    "## The SQL-Way"
   ],
   "metadata": {}
  },
  {
   "cell_type": "markdown",
   "source": [
    "# Matrixmultiplikation besser verstehen"
   ],
   "metadata": {}
  },
  {
   "cell_type": "markdown",
   "source": [
    "# Ideen\r\n",
    "1. Eigenvektoren // google Page Rank\r\n",
    "2. Sonderfall Identitätsmatrix\r\n",
    "3. Verstehen, was eine Matrix tut > mit Matrix experimentieren\r\n",
    "4. PErmutationsmatrix >> Zeilen und Spalten vertauschen\r\n",
    "5. Inverse Matrix >> Sachen rückgängig machen.\r\n",
    "\r\n",
    "REgression als Matrixmultiplikation\r\n",
    "REgression\r\n",
    "Graphen\r\n",
    "SVD"
   ],
   "metadata": {}
  },
  {
   "cell_type": "code",
   "execution_count": null,
   "source": [
    "meine123matrix =    np.array([[1,2,3],\r\n",
    "                              [4,5,6],\r\n",
    "                              [7,8,9]])"
   ],
   "outputs": [],
   "metadata": {}
  },
  {
   "cell_type": "code",
   "execution_count": null,
   "source": [
    "I = np.array([[1,0,0],\r\n",
    "              [0,1,0],\r\n",
    "              [0,0,1]])"
   ],
   "outputs": [],
   "metadata": {}
  },
  {
   "cell_type": "code",
   "execution_count": null,
   "source": [
    "I@A"
   ],
   "outputs": [],
   "metadata": {}
  },
  {
   "cell_type": "code",
   "execution_count": null,
   "source": [
    "A*I"
   ],
   "outputs": [],
   "metadata": {}
  },
  {
   "cell_type": "code",
   "execution_count": null,
   "source": [
    "B = np.matrix([[1,0,0],\r\n",
    "               [0,0,1],\r\n",
    "               [0,1,0]])\r\n",
    "\r\n",
    "print(B)"
   ],
   "outputs": [],
   "metadata": {}
  },
  {
   "cell_type": "code",
   "execution_count": null,
   "source": [
    "# row swap \r\n",
    "# row operations = left multiplication of B with A\r\n",
    "# B means: write row 3 in row 2\r\n",
    "B*A"
   ],
   "outputs": [],
   "metadata": {}
  },
  {
   "cell_type": "code",
   "execution_count": null,
   "source": [
    "# col swap \r\n",
    "# col operations = left multiplication of B with A\r\n",
    "# B means: write col 3 in col 2\r\n",
    "A*B"
   ],
   "outputs": [],
   "metadata": {}
  },
  {
   "cell_type": "code",
   "execution_count": null,
   "source": [
    "# C\r\n",
    "C = I.copy()\r\n",
    "C[1,0] = -1\r\n",
    "C"
   ],
   "outputs": [],
   "metadata": {}
  },
  {
   "cell_type": "code",
   "execution_count": null,
   "source": [],
   "outputs": [],
   "metadata": {}
  },
  {
   "cell_type": "code",
   "execution_count": null,
   "source": [
    "AT = A.transpose()"
   ],
   "outputs": [],
   "metadata": {}
  },
  {
   "cell_type": "code",
   "execution_count": null,
   "source": [
    "AT"
   ],
   "outputs": [],
   "metadata": {}
  },
  {
   "cell_type": "code",
   "execution_count": null,
   "source": [
    "A*AT"
   ],
   "outputs": [],
   "metadata": {}
  },
  {
   "cell_type": "code",
   "execution_count": null,
   "source": [
    "AT*A"
   ],
   "outputs": [],
   "metadata": {}
  },
  {
   "cell_type": "code",
   "execution_count": null,
   "source": [],
   "outputs": [],
   "metadata": {}
  }
 ],
 "metadata": {
  "kernelspec": {
   "name": "python3",
   "display_name": "Python 3.7.9 64-bit"
  },
  "language_info": {
   "codemirror_mode": {
    "name": "ipython",
    "version": 3
   },
   "file_extension": ".py",
   "mimetype": "text/x-python",
   "name": "python",
   "nbconvert_exporter": "python",
   "pygments_lexer": "ipython3",
   "version": "3.7.9"
  },
  "interpreter": {
   "hash": "f8a4220264a22d692c2e3132ffee74066f7b7c05c532ec5d92c4520053df6773"
  }
 },
 "nbformat": 4,
 "nbformat_minor": 5
}