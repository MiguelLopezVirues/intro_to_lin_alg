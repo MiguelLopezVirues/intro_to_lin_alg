{
 "cells": [
  {
   "cell_type": "markdown",
   "metadata": {},
   "source": [
    "# Lineare Algebra für Data Science und absolute Beginner (II/II)\n",
    "![beginner](https://upload.wikimedia.org/wikipedia/commons/f/f7/ABSOLUTE_BEGINNER.jpg \"Von Mika Väisänen, CC BY-SA 3.0 de, https://commons.wikimedia.org/w/index.php?curid=38500036\")"
   ]
  },
  {
   "cell_type": "code",
   "execution_count": 2,
   "metadata": {},
   "outputs": [],
   "source": [
    "# numpy als eine Implementierung von LA\n",
    "import numpy as np\n",
    "from numpy import linalg as LA\n",
    "# pandas zum Vergleich zur LA\n",
    "import pandas as pd\n",
    "# pyplot, um Grafiken anzuzeigen\n",
    "import matplotlib.pyplot as plt"
   ]
  },
  {
   "cell_type": "code",
   "execution_count": 7,
   "metadata": {},
   "outputs": [
    {
     "name": "stdout",
     "output_type": "stream",
     "text": [
      "[14 32]\n"
     ]
    },
    {
     "ename": "ValueError",
     "evalue": "matmul: Input operand 1 has a mismatch in its core dimension 0, with gufunc signature (n?,k),(k,m?)->(n?,m?) (size 2 is different from 3)",
     "output_type": "error",
     "traceback": [
      "\u001b[0;31m---------------------------------------------------------------------------\u001b[0m",
      "\u001b[0;31mValueError\u001b[0m                                Traceback (most recent call last)",
      "\u001b[1;32m/Users/julian/Software/intro_to_lin_alg/Teil 2 Anwendungen.ipynb Cell 3'\u001b[0m in \u001b[0;36m<cell line: 7>\u001b[0;34m()\u001b[0m\n\u001b[1;32m      <a href='vscode-notebook-cell:/Users/julian/Software/intro_to_lin_alg/Teil%202%20Anwendungen.ipynb#ch0000028?line=3'>4</a>\u001b[0m V1 \u001b[39m=\u001b[39m np\u001b[39m.\u001b[39marray([\u001b[39m1\u001b[39m,\u001b[39m2\u001b[39m,\u001b[39m3\u001b[39m])\n\u001b[1;32m      <a href='vscode-notebook-cell:/Users/julian/Software/intro_to_lin_alg/Teil%202%20Anwendungen.ipynb#ch0000028?line=5'>6</a>\u001b[0m \u001b[39mprint\u001b[39m(A\u001b[39m@V1\u001b[39m)\n\u001b[0;32m----> <a href='vscode-notebook-cell:/Users/julian/Software/intro_to_lin_alg/Teil%202%20Anwendungen.ipynb#ch0000028?line=6'>7</a>\u001b[0m \u001b[39mprint\u001b[39m(V1\u001b[39m@A\u001b[39;49m)\n",
      "\u001b[0;31mValueError\u001b[0m: matmul: Input operand 1 has a mismatch in its core dimension 0, with gufunc signature (n?,k),(k,m?)->(n?,m?) (size 2 is different from 3)"
     ]
    }
   ],
   "source": [
    "A = np.array([[1,2,3],\n",
    "              [4,5,6]])\n",
    "\n",
    "V1 = np.array([1,2,3])\n",
    "\n",
    "print(A@V1)\n",
    "print(V1@A)\n"
   ]
  },
  {
   "cell_type": "markdown",
   "metadata": {},
   "source": [
    "# Ideen\n",
    "1. Eigenvektoren // google Page Rank\n",
    "2. Sonderfall Identitätsmatrix\n",
    "3. Verstehen, was eine Matrix tut > mit Matrix experimentieren\n",
    "4. PErmutationsmatrix >> Zeilen und Spalten vertauschen\n",
    "5. Inverse Matrix >> Sachen rückgängig machen.\n",
    "6. Determinanten\n",
    "8. Projektionsmatrizen / REgression als Matrixmultiplikation\n",
    "\n",
    "MAtrixMultiplikation: Alles hängt irgendwie zusammen\n",
    "\n",
    "MArkovmatrix\n",
    "\n",
    "Graphentheorie\n",
    "\n",
    "page rank\n",
    "\n",
    "SVD\n",
    "\n",
    "PCA\n",
    "\n",
    "Sparse\n",
    "\n",
    "S LAMBDA S-1 -Transformation"
   ]
  },
  {
   "cell_type": "markdown",
   "metadata": {},
   "source": [
    "# Matrixmultiplikation besser verstehen"
   ]
  },
  {
   "cell_type": "code",
   "execution_count": null,
   "metadata": {},
   "outputs": [],
   "source": [
    "A =    np.array([[1,2,3],\n",
    "                 [4,5,11],\n",
    "                 [7,8,12]])"
   ]
  },
  {
   "cell_type": "code",
   "execution_count": null,
   "metadata": {},
   "outputs": [],
   "source": [
    "I = np.array([[1,0,0],\n",
    "              [0,1,0],\n",
    "              [0,0,1]])"
   ]
  },
  {
   "cell_type": "code",
   "execution_count": null,
   "metadata": {},
   "outputs": [],
   "source": [
    "V = np.array([1,2,3])"
   ]
  },
  {
   "cell_type": "code",
   "execution_count": null,
   "metadata": {},
   "outputs": [
    {
     "name": "stdout",
     "output_type": "stream",
     "text": [
      "[[ 1.00000000e+00  0.00000000e+00 -2.77555756e-17]\n",
      " [ 3.33066907e-16  1.00000000e+00  1.38777878e-16]\n",
      " [ 4.44089210e-16  0.00000000e+00  1.00000000e+00]]\n"
     ]
    }
   ],
   "source": [
    "print(A @ LA.inv(A))"
   ]
  },
  {
   "cell_type": "code",
   "execution_count": null,
   "metadata": {},
   "outputs": [
    {
     "name": "stdout",
     "output_type": "stream",
     "text": [
      "[[ 1.00000000e+00  4.38538095e-15 -1.99840144e-15]\n",
      " [ 4.71844785e-15  1.00000000e+00  4.21884749e-15]\n",
      " [-4.71844785e-15 -2.38697950e-15  1.00000000e+00]]\n"
     ]
    }
   ],
   "source": [
    "A_projection = A @ LA.inv(A.T @ A) @ A.T\n",
    "print(A_projection)"
   ]
  },
  {
   "cell_type": "code",
   "execution_count": null,
   "metadata": {},
   "outputs": [
    {
     "data": {
      "text/plain": [
       "array([[ 1,  2,  3],\n",
       "       [ 4,  5, 11],\n",
       "       [ 7,  8, 12]])"
      ]
     },
     "metadata": {},
     "output_type": "display_data"
    }
   ],
   "source": [
    "\n",
    "\n",
    "\n",
    "\n",
    " I@A"
   ]
  },
  {
   "cell_type": "code",
   "execution_count": null,
   "metadata": {},
   "outputs": [
    {
     "data": {
      "text/plain": [
       "array([[ 1,  0,  0],\n",
       "       [ 0,  5,  0],\n",
       "       [ 0,  0, 12]])"
      ]
     },
     "metadata": {},
     "output_type": "display_data"
    }
   ],
   "source": [
    "A*I"
   ]
  },
  {
   "cell_type": "code",
   "execution_count": null,
   "metadata": {},
   "outputs": [
    {
     "name": "stdout",
     "output_type": "stream",
     "text": [
      "[[0 0 1]\n",
      " [1 0 0]\n",
      " [0 1 0]]\n"
     ]
    }
   ],
   "source": [
    "B = np.matrix([[0,0,1],\n",
    "               [1,0,0],\n",
    "               [0,1,0]])\n",
    "\n",
    "print(B)"
   ]
  },
  {
   "cell_type": "code",
   "execution_count": null,
   "metadata": {},
   "outputs": [
    {
     "data": {
      "text/plain": [
       "matrix([[ 7,  8, 12],\n",
       "        [ 1,  2,  3],\n",
       "        [ 4,  5, 11]])"
      ]
     },
     "metadata": {},
     "output_type": "display_data"
    }
   ],
   "source": [
    "# row swap \n",
    "# row operations = left multiplication of B with A\n",
    "# B means: write row 3 in row 1\n",
    "B*A"
   ]
  },
  {
   "cell_type": "code",
   "execution_count": null,
   "metadata": {},
   "outputs": [
    {
     "data": {
      "text/plain": [
       "matrix([[ 2,  3,  1],\n",
       "        [ 5, 11,  4],\n",
       "        [ 8, 12,  7]])"
      ]
     },
     "metadata": {},
     "output_type": "display_data"
    }
   ],
   "source": [
    "# col swap \n",
    "# col operations = left multiplication of B with A\n",
    "# B means: write col 3 in col 1\n",
    "A*B"
   ]
  },
  {
   "cell_type": "code",
   "execution_count": null,
   "metadata": {},
   "outputs": [
    {
     "data": {
      "text/plain": [
       "array([[ 1,  0,  0],\n",
       "       [-1,  1,  0],\n",
       "       [ 0,  0,  1]])"
      ]
     },
     "metadata": {},
     "output_type": "display_data"
    }
   ],
   "source": [
    "# C\n",
    "C = I.copy()\n",
    "C[1,0] = -1\n",
    "C"
   ]
  },
  {
   "cell_type": "code",
   "execution_count": null,
   "metadata": {},
   "outputs": [],
   "source": []
  },
  {
   "cell_type": "code",
   "execution_count": null,
   "metadata": {},
   "outputs": [],
   "source": [
    "AT = A.transpose()"
   ]
  },
  {
   "cell_type": "code",
   "execution_count": null,
   "metadata": {},
   "outputs": [
    {
     "data": {
      "text/plain": [
       "array([[ 1,  4,  7],\n",
       "       [ 2,  5,  8],\n",
       "       [ 3, 11, 12]])"
      ]
     },
     "metadata": {},
     "output_type": "display_data"
    }
   ],
   "source": [
    "AT"
   ]
  },
  {
   "cell_type": "code",
   "execution_count": null,
   "metadata": {},
   "outputs": [
    {
     "data": {
      "text/plain": [
       "array([[  1,   8,  21],\n",
       "       [  8,  25,  88],\n",
       "       [ 21,  88, 144]])"
      ]
     },
     "metadata": {},
     "output_type": "display_data"
    }
   ],
   "source": [
    "A*AT"
   ]
  },
  {
   "cell_type": "code",
   "execution_count": null,
   "metadata": {},
   "outputs": [
    {
     "data": {
      "text/plain": [
       "array([[  1,   8,  21],\n",
       "       [  8,  25,  88],\n",
       "       [ 21,  88, 144]])"
      ]
     },
     "metadata": {},
     "output_type": "display_data"
    }
   ],
   "source": [
    "AT*A"
   ]
  },
  {
   "cell_type": "code",
   "execution_count": null,
   "metadata": {},
   "outputs": [
    {
     "data": {
      "text/plain": [
       "array([[0.66, 0.32],\n",
       "       [0.16, 0.66]])"
      ]
     },
     "metadata": {},
     "output_type": "display_data"
    },
    {
     "data": {
      "text/plain": [
       "array([[0.66, 0.32],\n",
       "       [0.16, 0.66]])"
      ]
     },
     "metadata": {},
     "output_type": "display_data"
    }
   ],
   "source": [
    "# SAS-Transformation\n",
    "\n",
    "eigvals_staub\n",
    "S = eigvectors_staub\n",
    "SI = LA.inv(eigvectors_staub)\n",
    "\n",
    "I = np.array([[1,0],\n",
    "              [0,1]])\n",
    "\n",
    "LAMBDA = eigvals_staub * I\n",
    "LAMBDA2 = LAMBDA @ LAMBDA\n",
    "\n",
    "S @ LAMBDA @ SI\n"
   ]
  },
  {
   "cell_type": "code",
   "execution_count": null,
   "id": "b026eea7",
   "metadata": {},
   "outputs": [
    {
     "data": {
      "text/plain": [
       "array([[0.94142136, 0.        ],\n",
       "       [0.        , 0.65857864]])"
      ]
     },
     "metadata": {},
     "output_type": "display_data"
    }
   ],
   "source": [
    "LAMBDA"
   ]
  },
  {
   "cell_type": "code",
   "execution_count": null,
   "id": "e1b8ee91",
   "metadata": {},
   "outputs": [
    {
     "name": "stdout",
     "output_type": "stream",
     "text": [
      "3.45 µs ± 453 ns per loop (mean ± std. dev. of 7 runs, 100000 loops each)\n"
     ]
    }
   ],
   "source": [
    "\n",
    "%%timeit\n",
    "S @ LAMBDA2 @ SI\n"
   ]
  },
  {
   "cell_type": "code",
   "execution_count": null,
   "id": "40bbdc24",
   "metadata": {},
   "outputs": [
    {
     "name": "stdout",
     "output_type": "stream",
     "text": [
      "2.09 µs ± 296 ns per loop (mean ± std. dev. of 7 runs, 100000 loops each)\n"
     ]
    }
   ],
   "source": [
    "%%timeit\n",
    "zombifizierungmatrix_staub @ zombifizierungmatrix_staub"
   ]
  },
  {
   "cell_type": "code",
   "execution_count": null,
   "id": "244ffea5",
   "metadata": {},
   "outputs": [],
   "source": []
  }
 ],
 "metadata": {
  "interpreter": {
   "hash": "b3b98a2d53d0e8181fd3cd1829e8bf920772510e1667ce825da86798efdd9a10"
  },
  "kernelspec": {
   "display_name": "Python 3.10.4 ('venv': venv)",
   "language": "python",
   "name": "python3"
  },
  "language_info": {
   "codemirror_mode": {
    "name": "ipython",
    "version": 3
   },
   "file_extension": ".py",
   "mimetype": "text/x-python",
   "name": "python",
   "nbconvert_exporter": "python",
   "pygments_lexer": "ipython3",
   "version": "3.10.4"
  },
  "orig_nbformat": 4
 },
 "nbformat": 4,
 "nbformat_minor": 2
}
