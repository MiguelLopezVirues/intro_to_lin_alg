{
 "cells": [
  {
   "cell_type": "markdown",
   "metadata": {},
   "source": [
    "# Lineare Algebra für Data Science und absolute Beginner (II/II)\n",
    "![beginner](https://upload.wikimedia.org/wikipedia/commons/f/f7/ABSOLUTE_BEGINNER.jpg \"Von Mika Väisänen, CC BY-SA 3.0 de, https://commons.wikimedia.org/w/index.php?curid=38500036\")"
   ]
  },
  {
   "cell_type": "code",
   "execution_count": 1,
   "metadata": {},
   "outputs": [],
   "source": [
    "import numpy as np"
   ]
  },
  {
   "attachments": {},
   "cell_type": "markdown",
   "metadata": {},
   "source": [
    "# Matrixmultiplikation besser verstehen\n",
    "\n",
    "Hi und schön, dass Du wieder da bist.\n",
    "\n",
    "Nach unserem einführenden Beispiel schauen wir uns nun an, wie die Matrixmultiplikation genau funktioniert (Teil 1) und was man damit machen kann (Teil 2). Dafür versuchen wir zunächst uns ein bisschen Intuition zu verschaffen. Stell Dir vor, Du hast zwei Matrizen $A$ und $B$: "
   ]
  },
  {
   "cell_type": "code",
   "execution_count": 2,
   "metadata": {},
   "outputs": [
    {
     "name": "stdout",
     "output_type": "stream",
     "text": [
      "[[ 6  8]\n",
      " [10 12]]\n"
     ]
    }
   ],
   "source": [
    "A = np.array([[1,2],\n",
    "              [3,4]])\n",
    "\n",
    "B = np.array([[5,6],\n",
    "              [7,8]])\n",
    "\n",
    "print(A+B)"
   ]
  },
  {
   "attachments": {},
   "cell_type": "markdown",
   "metadata": {},
   "source": [
    "Was passiert, wenn wir diese zwei Matrizen addieren oder subtrahieren?"
   ]
  },
  {
   "cell_type": "code",
   "execution_count": 7,
   "metadata": {},
   "outputs": [
    {
     "name": "stdout",
     "output_type": "stream",
     "text": [
      "A+B\n",
      "[[ 6  8]\n",
      " [10 12]]\n",
      "A-B\n",
      "[[-4 -4]\n",
      " [-4 -4]]\n"
     ]
    }
   ],
   "source": [
    "print(\"A+B\")\n",
    "print(A+B)\n",
    "print(\"A-B\")\n",
    "print(A-B)"
   ]
  },
  {
   "attachments": {},
   "cell_type": "markdown",
   "metadata": {},
   "source": [
    "Man sieht, dass die Summe der beiden Matrizen $A$ und $B$ die Summe der einzelnen Elemente ist (bzw. die Differenz). Das ist nicht besonders spannend. Was passiert, wenn wir die beiden Matrizen miteinander multiplizieren? Jetzt ist nur die Frage: In welcher Reihenfolge? Ach egal, nehmen wir beide!"
   ]
  },
  {
   "cell_type": "code",
   "execution_count": 8,
   "metadata": {},
   "outputs": [
    {
     "name": "stdout",
     "output_type": "stream",
     "text": [
      "A*B\n",
      "[[19 22]\n",
      " [43 50]]\n",
      "B*A\n",
      "[[23 34]\n",
      " [31 46]]\n"
     ]
    }
   ],
   "source": [
    "print(\"A*B\")\n",
    "print(A@B)\n",
    "print(\"B*A\")\n",
    "print(B@A)"
   ]
  },
  {
   "attachments": {},
   "cell_type": "markdown",
   "metadata": {},
   "source": [
    "Erste Feststellung: Die Reihenfolge ist nicht egal! Die Matrixmultiplikation ist nicht kommutativ. Das heißt, dass $A \\cdot B \\neq B \\cdot A$. \n",
    "\n",
    "Jetzt nehmen wir mal ein paar andere Matrizengrößen und schauen, was passiert. "
   ]
  },
  {
   "cell_type": "code",
   "execution_count": 9,
   "metadata": {},
   "outputs": [],
   "source": [
    "A = np.array([[6,3],\n",
    "              [2,2],\n",
    "              [1,6],\n",
    "              [8,6]])\n",
    "\n",
    "B = np.array([[8,0,0],\n",
    "              [9,5,0]])"
   ]
  },
  {
   "cell_type": "code",
   "execution_count": 10,
   "metadata": {},
   "outputs": [
    {
     "name": "stdout",
     "output_type": "stream",
     "text": [
      "A*B\n",
      "[[ 75  15   0]\n",
      " [ 34  10   0]\n",
      " [ 62  30   0]\n",
      " [118  30   0]]\n"
     ]
    }
   ],
   "source": [
    "print(\"A*B\")\n",
    "print(A@B)"
   ]
  },
  {
   "attachments": {},
   "cell_type": "markdown",
   "metadata": {},
   "source": [
    "Sehr schön, das scheint ja schon mal zu funktionieren. Aber was passiert, wenn wir die Matrizen vertauschen?"
   ]
  },
  {
   "cell_type": "code",
   "execution_count": 11,
   "metadata": {},
   "outputs": [
    {
     "name": "stdout",
     "output_type": "stream",
     "text": [
      "B*A\n"
     ]
    },
    {
     "ename": "ValueError",
     "evalue": "matmul: Input operand 1 has a mismatch in its core dimension 0, with gufunc signature (n?,k),(k,m?)->(n?,m?) (size 4 is different from 3)",
     "output_type": "error",
     "traceback": [
      "\u001b[0;31m---------------------------------------------------------------------------\u001b[0m",
      "\u001b[0;31mValueError\u001b[0m                                Traceback (most recent call last)",
      "\u001b[1;32m/Users/julian/Software/intro_to_lin_alg/Teil 2 Anwendungen.ipynb Zelle 13\u001b[0m in \u001b[0;36m<cell line: 2>\u001b[0;34m()\u001b[0m\n\u001b[1;32m      <a href='vscode-notebook-cell:/Users/julian/Software/intro_to_lin_alg/Teil%202%20Anwendungen.ipynb#X63sZmlsZQ%3D%3D?line=0'>1</a>\u001b[0m \u001b[39mprint\u001b[39m(\u001b[39m\"\u001b[39m\u001b[39mB*A\u001b[39m\u001b[39m\"\u001b[39m)\n\u001b[0;32m----> <a href='vscode-notebook-cell:/Users/julian/Software/intro_to_lin_alg/Teil%202%20Anwendungen.ipynb#X63sZmlsZQ%3D%3D?line=1'>2</a>\u001b[0m \u001b[39mprint\u001b[39m(B\u001b[39m@A\u001b[39;49m)\n",
      "\u001b[0;31mValueError\u001b[0m: matmul: Input operand 1 has a mismatch in its core dimension 0, with gufunc signature (n?,k),(k,m?)->(n?,m?) (size 4 is different from 3)"
     ]
    }
   ],
   "source": [
    "print(\"B*A\")\n",
    "print(B@A)"
   ]
  },
  {
   "attachments": {},
   "cell_type": "markdown",
   "metadata": {},
   "source": [
    "Nun erhalten wir eine Fehlermeldung! Das heißt, dass die Matrixmultiplikation so nicht durchführbar ist. Die Fehlermeldung sagt: \"size 4 is different from 3\". Das heißt, dass die Anzahl der Spalten der ersten Matrix gleich der Anzahl der Zeilen der zweiten Matrix sein muss. Aber warum? Schauen wir uns das mal genauer an. Die folgende Grafik zeigt die Matrixmultiplikation von $A$ und $B$:\n",
    "\n",
    "![Matrixmultiplikation](https://upload.wikimedia.org/wikipedia/commons/thumb/e/eb/Matrix_multiplication_diagram_2.svg/1920px-Matrix_multiplication_diagram_2.svg.png \"Von Inductiveload - Eigenes Werk, CC BY-SA 3.0, https://commons.wikimedia.org/w/index.php?curid=1119724\")"
   ]
  },
  {
   "attachments": {},
   "cell_type": "markdown",
   "metadata": {},
   "source": [
    "Wenn man die Matrizen $A$ und $B$ so anordnet wie in der Grafik oben wird deutlich, dass die Anzahl der Spalten der ersten Matrix gleich der Anzahl der Zeilen der zweiten Matrix sein muss. Um z.B. den Wert im roten Kreis zu ermitteln muss ich folgendes rechnen:\n",
    "\n",
    "$(a_{1,1}*b_{1,2})+ (a_{1,2}*b_{2,2})$\n",
    "\n",
    "Dafür müssen die Spalten von $A$ und die Zeilen von $B$ gleich sein. Anders ist es bei den Zeilen von $A$ und den Spalten von $B$. Diese können beliebig lang sein. Daher hat die Matrixmultiplikation auch die Form $m \\times n$ und $n \\times p$. Das Ergebnis ist dann eine Matrix der Größe $m \\times p$. In der Eregebnismatrix kommt $n$ also nicht mehr vor. Das wir für uns noch sehr nützlich werden, wenn wir uns z.B. mit der Dimensionsreduktion oder Sprachmodellen wie GPT beschäftigen.\n",
    "\n",
    "So weit so gut! Schauen wir uns jetzt mal ein paar Spezialfälle von Matrizen an. Zunächst die Einheitsmatrix, auch Identität $I$ genannt. Diese hat auf der Hauptdiagonalen nur Einsen und sonst nur Nullen. Jetzt multiplizieren wir die Matrix $A$ mit der Einheitsmatrix $I$, um zu schauen, was mit $A$ passiert."
   ]
  },
  {
   "cell_type": "code",
   "execution_count": 19,
   "metadata": {},
   "outputs": [
    {
     "name": "stdout",
     "output_type": "stream",
     "text": [
      "A*I\n",
      "[[1 2 3]\n",
      " [4 5 6]\n",
      " [7 8 9]]\n",
      "I*A\n",
      "[[1 2 3]\n",
      " [4 5 6]\n",
      " [7 8 9]]\n"
     ]
    }
   ],
   "source": [
    "A = np.array([[1,2,3],\n",
    "              [4,5,6],\n",
    "              [7,8,9]])\n",
    "\n",
    "I = np.array([[1,0,0],\n",
    "              [0,1,0],\n",
    "              [0,0,1]])\n",
    "\n",
    "# Shortcut: I = np.eye(3)\n",
    "\n",
    "print(\"A*I\")\n",
    "print(A@I)\n",
    "print(\"I*A\")\n",
    "print(I@A)"
   ]
  },
  {
   "attachments": {},
   "cell_type": "markdown",
   "metadata": {},
   "source": [
    "Interessant! Die Matrix $A$ bleibt gleich. Das heißt, dass die Einheitsmatrix $I$ das sog. \"neutrale Element\" der Matrixmultiplikation ist. Das ist so ähnlich wie die Zahl 1 bei der Multiplikation von \"Zahlen\". Aber warum ist das so?\n",
    "\n",
    "Schauen wir uns mal die erste Stelle in der Ergebnismatrix an. Diese ist die Summe der Produkte der ersten Zeile von $A$ mit der ersten Spalte von $I$. Das heißt, dass wir die erste Zeile von $A$ mit der ersten Spalte von $I$ multiplizieren. In diesem Fall ist das:\n",
    "\n",
    "Stelle \"1\": $1*1 + 2*0 + 3*0 = 1$\n",
    "\n",
    "Stelle \"2\": $1*0 + 2*1 + 3*0 = 2$\n",
    "\n",
    "Stelle \"4\": $4*1 + 5*0 + 6*0 = 4$\n",
    "\n",
    "usw.\n",
    "\n",
    "Was passiert nun, wenn wir $I$ etwas manipulieren?"
   ]
  },
  {
   "cell_type": "code",
   "execution_count": 20,
   "metadata": {},
   "outputs": [
    {
     "name": "stdout",
     "output_type": "stream",
     "text": [
      "A*B\n",
      "[[2 1 3]\n",
      " [5 4 6]\n",
      " [8 7 9]]\n"
     ]
    }
   ],
   "source": [
    "A = np.array([[1,2,3],\n",
    "              [4,5,6],\n",
    "              [7,8,9]])\n",
    "\n",
    "B = np.array([[0,1,0],\n",
    "              [1,0,0],\n",
    "              [0,0,1]])\n",
    "\n",
    "print(\"A*B\")\n",
    "print(A@B)"
   ]
  },
  {
   "attachments": {},
   "cell_type": "markdown",
   "metadata": {},
   "source": [
    "Jetzt sind die ersten beiden Spalten vertauscht! Man kann die Matrix $B$ auch so lesen: \n",
    "\n",
    "Wenn in der __ersten__ Spalte eine \"1\" an der __zweiten__ Stelle steht, bedeutet das: \n",
    "\n",
    "\"Nimm die __erste__ Spalte von $A$ und schreibe sie in die __zweite__ Spalte.\" \n",
    "\n",
    "Wenn in der __zweiten__ Spalte eine \"1\" an der __ersten__ Stelle steht, bedeutet das: \n",
    "\n",
    "\"Nimm die __zweite__ Spalte von $A$ und schreibe sie in die __erste__ Spalte.\" \n",
    "\n",
    "Mit einer Matrixmultiplikation kann ich also Spalten vertauschen! Aber wie sieht es mit Zeilen aus? Hast Du eine Idee? Wir können einfach die Reihenfolge der Matrizen vertauschen und schauen, was passiert."
   ]
  },
  {
   "cell_type": "code",
   "execution_count": 21,
   "metadata": {},
   "outputs": [
    {
     "name": "stdout",
     "output_type": "stream",
     "text": [
      "B*A\n",
      "[[4 5 6]\n",
      " [1 2 3]\n",
      " [7 8 9]]\n"
     ]
    }
   ],
   "source": [
    "print(\"B*A\")\n",
    "print(B@A)"
   ]
  },
  {
   "attachments": {},
   "cell_type": "markdown",
   "metadata": {},
   "source": [
    "Zack! Und schon haben wir Zeilen vertauscht. Die Matrix $B$ können wir nun wie folgt lesen:\n",
    "\n",
    "Wenn in der __ersten__ Zeile eine \"1\" an der __zweiten__ Stelle steht, bedeutet das: \n",
    "\n",
    "\"Nimm die __erste__ Zeile von $A$ und schreibe sie in die __zweite__ Zeile.\" \n",
    "\n",
    "Wenn in der __zweiten__ Zeile eine \"1\" an der __ersten__ Stelle steht, bedeutet das: \n",
    "\n",
    "\"Nimm die __zweite__ Zeile von $A$ und schreibe sie in die __erste__ Zeile.\" \n",
    "\n",
    "Jetzt machen wir mal anders weiter. Wir bauen uns nun eine sogenannte untere Dreiecksmatrix $L$ aus Einsen. Dies hat auf der Hauptdiagonalen nur Einsen und darunter ebenfalls. Alles andere ist Null. Schauen wir mal, was passiert, wenn wir $A$ mit $L$ multiplizieren.\n"
   ]
  },
  {
   "cell_type": "code",
   "execution_count": 24,
   "metadata": {},
   "outputs": [
    {
     "name": "stdout",
     "output_type": "stream",
     "text": [
      "A*L\n",
      "[[ 6  5  3]\n",
      " [15 11  6]\n",
      " [24 17  9]]\n",
      "L*A\n",
      "[[ 1  2  3]\n",
      " [ 5  7  9]\n",
      " [12 15 18]]\n"
     ]
    }
   ],
   "source": [
    "L = np.array([[1,0,0],\n",
    "              [1,1,0],\n",
    "              [1,1,1]])\n",
    "\n",
    "print(\"A*L\")\n",
    "print(A@L)\n",
    "\n",
    "print(\"L*A\")\n",
    "print(L@A)"
   ]
  },
  {
   "cell_type": "code",
   "execution_count": 1,
   "metadata": {},
   "outputs": [],
   "source": [
    "# numpy als eine Implementierung von LA\n",
    "import numpy as np\n",
    "from numpy import linalg as LA\n",
    "# pandas zum Vergleich zur LA\n",
    "import pandas as pd\n",
    "# pyplot, um Grafiken anzuzeigen\n",
    "import matplotlib.pyplot as plt\n",
    "\n",
    "import sympy as sp\n",
    "from sympy import Matrix, init_printing\n",
    "init_printing()"
   ]
  },
  {
   "cell_type": "code",
   "execution_count": 7,
   "metadata": {},
   "outputs": [
    {
     "data": {
      "image/png": "[encoded data removed]",
      "text/latex": [
       "$\\displaystyle 2 \\sqrt{2}$"
      ],
      "text/plain": [
       "2⋅√2"
      ]
     },
     "metadata": {},
     "output_type": "display_data"
    }
   ],
   "source": [
    "display(sp.sqrt(8))"
   ]
  },
  {
   "cell_type": "code",
   "execution_count": 23,
   "metadata": {},
   "outputs": [
    {
     "name": "stdout",
     "output_type": "stream",
     "text": [
      "[14 32]\n"
     ]
    }
   ],
   "source": [
    "A = np.array([[1,2,3],\n",
    "              [4,5,6]])\n",
    "\n",
    "V1 = np.array([1,2,3])\n",
    "\n",
    "print(A@V1)\n",
    "# print(V1@A)\n"
   ]
  },
  {
   "cell_type": "markdown",
   "metadata": {},
   "source": [
    "# Ideen\n",
    "1. Eigenvektoren // google Page Rank\n",
    "2. Sonderfall Identitätsmatrix\n",
    "3. Verstehen, was eine Matrix tut > mit Matrix experimentieren\n",
    "4. PErmutationsmatrix >> Zeilen und Spalten vertauschen\n",
    "5. Inverse Matrix >> Sachen rückgängig machen.\n",
    "6. Determinanten\n",
    "8. Projektionsmatrizen / REgression als Matrixmultiplikation\n",
    "\n",
    "MAtrixMultiplikation: Alles hängt irgendwie zusammen\n",
    "\n",
    "MArkovmatrix\n",
    "\n",
    "Graphentheorie\n",
    "\n",
    "page rank\n",
    "\n",
    "SVD\n",
    "\n",
    "PCA\n",
    "\n",
    "Sparse\n",
    "\n",
    "S LAMBDA S-1 -Transformation"
   ]
  },
  {
   "cell_type": "markdown",
   "metadata": {},
   "source": [
    "# Matrixmultiplikation besser verstehen"
   ]
  },
  {
   "cell_type": "code",
   "execution_count": 24,
   "metadata": {},
   "outputs": [],
   "source": [
    "A =    np.array([[1,2,3],\n",
    "                 [4,5,11],\n",
    "                 [7,8,12]])"
   ]
  },
  {
   "cell_type": "code",
   "execution_count": 25,
   "metadata": {},
   "outputs": [],
   "source": [
    "I = np.array([[1,0,0],\n",
    "              [0,1,0],\n",
    "              [0,0,1]])"
   ]
  },
  {
   "cell_type": "code",
   "execution_count": 26,
   "metadata": {},
   "outputs": [],
   "source": [
    "V = np.array([1,2,3])"
   ]
  },
  {
   "cell_type": "code",
   "execution_count": 31,
   "metadata": {},
   "outputs": [
    {
     "data": {
      "text/latex": [
       "$\\displaystyle \\left[\\begin{matrix}1.0 & 0 & 0\\\\0 & 1.0 & 0\\\\0 & 0 & 1.0\\end{matrix}\\right]$"
      ],
      "text/plain": [
       "⎡1.0   0    0 ⎤\n",
       "⎢             ⎥\n",
       "⎢ 0   1.0   0 ⎥\n",
       "⎢             ⎥\n",
       "⎣ 0    0   1.0⎦"
      ]
     },
     "metadata": {},
     "output_type": "display_data"
    }
   ],
   "source": [
    "# Strg-Z\n",
    "neuesI = A @ LA.inv(A)\n",
    "display(Matrix(np.round(neuesI, decimals=2)))\n",
    "\n",
    "# print(np.around(A @ LA.inv(A), decimals=2))"
   ]
  },
  {
   "cell_type": "code",
   "execution_count": 34,
   "metadata": {},
   "outputs": [
    {
     "data": {
      "text/latex": [
       "$\\displaystyle \\left[\\begin{matrix}1.0 & 0 & 0\\\\0 & 1.0 & 0\\\\0 & 0 & 1.0\\end{matrix}\\right]$"
      ],
      "text/plain": [
       "⎡1.0   0    0 ⎤\n",
       "⎢             ⎥\n",
       "⎢ 0   1.0   0 ⎥\n",
       "⎢             ⎥\n",
       "⎣ 0    0   1.0⎦"
      ]
     },
     "metadata": {},
     "output_type": "display_data"
    },
    {
     "name": "stdout",
     "output_type": "stream",
     "text": [
      "None\n"
     ]
    }
   ],
   "source": [
    "A_projection = A @ LA.inv(A.T @ A) @ A.T\n",
    "print(display(Matrix(np.round(A_projection))))"
   ]
  },
  {
   "cell_type": "code",
   "execution_count": null,
   "metadata": {},
   "outputs": [
    {
     "data": {
      "text/plain": [
       "array([[ 1,  2,  3],\n",
       "       [ 4,  5, 11],\n",
       "       [ 7,  8, 12]])"
      ]
     },
     "metadata": {},
     "output_type": "display_data"
    }
   ],
   "source": [
    "\n",
    "\n",
    "\n",
    "\n",
    " I@A"
   ]
  },
  {
   "cell_type": "code",
   "execution_count": null,
   "metadata": {},
   "outputs": [
    {
     "data": {
      "text/plain": [
       "array([[ 1,  0,  0],\n",
       "       [ 0,  5,  0],\n",
       "       [ 0,  0, 12]])"
      ]
     },
     "metadata": {},
     "output_type": "display_data"
    }
   ],
   "source": [
    "A*I"
   ]
  },
  {
   "cell_type": "code",
   "execution_count": null,
   "metadata": {},
   "outputs": [
    {
     "name": "stdout",
     "output_type": "stream",
     "text": [
      "[[0 0 1]\n",
      " [1 0 0]\n",
      " [0 1 0]]\n"
     ]
    }
   ],
   "source": [
    "B = np.matrix([[0,0,1],\n",
    "               [1,0,0],\n",
    "               [0,1,0]])\n",
    "\n",
    "print(B)"
   ]
  },
  {
   "cell_type": "code",
   "execution_count": null,
   "metadata": {},
   "outputs": [
    {
     "data": {
      "text/plain": [
       "matrix([[ 7,  8, 12],\n",
       "        [ 1,  2,  3],\n",
       "        [ 4,  5, 11]])"
      ]
     },
     "metadata": {},
     "output_type": "display_data"
    }
   ],
   "source": [
    "# row swap \n",
    "# row operations = left multiplication of B with A\n",
    "# B means: write row 3 in row 1\n",
    "B*A"
   ]
  },
  {
   "cell_type": "code",
   "execution_count": null,
   "metadata": {},
   "outputs": [
    {
     "data": {
      "text/plain": [
       "matrix([[ 2,  3,  1],\n",
       "        [ 5, 11,  4],\n",
       "        [ 8, 12,  7]])"
      ]
     },
     "metadata": {},
     "output_type": "display_data"
    }
   ],
   "source": [
    "# col swap \n",
    "# col operations = left multiplication of B with A\n",
    "# B means: write col 3 in col 1\n",
    "A*B"
   ]
  },
  {
   "cell_type": "code",
   "execution_count": null,
   "metadata": {},
   "outputs": [
    {
     "data": {
      "text/plain": [
       "array([[ 1,  0,  0],\n",
       "       [-1,  1,  0],\n",
       "       [ 0,  0,  1]])"
      ]
     },
     "metadata": {},
     "output_type": "display_data"
    }
   ],
   "source": [
    "# C\n",
    "C = I.copy()\n",
    "C[1,0] = -1\n",
    "C"
   ]
  },
  {
   "cell_type": "code",
   "execution_count": null,
   "metadata": {},
   "outputs": [],
   "source": []
  },
  {
   "cell_type": "code",
   "execution_count": null,
   "metadata": {},
   "outputs": [],
   "source": [
    "AT = A.transpose()"
   ]
  },
  {
   "cell_type": "code",
   "execution_count": null,
   "metadata": {},
   "outputs": [
    {
     "data": {
      "text/plain": [
       "array([[ 1,  4,  7],\n",
       "       [ 2,  5,  8],\n",
       "       [ 3, 11, 12]])"
      ]
     },
     "metadata": {},
     "output_type": "display_data"
    }
   ],
   "source": [
    "AT"
   ]
  },
  {
   "cell_type": "code",
   "execution_count": null,
   "metadata": {},
   "outputs": [
    {
     "data": {
      "text/plain": [
       "array([[  1,   8,  21],\n",
       "       [  8,  25,  88],\n",
       "       [ 21,  88, 144]])"
      ]
     },
     "metadata": {},
     "output_type": "display_data"
    }
   ],
   "source": [
    "A*AT"
   ]
  },
  {
   "cell_type": "code",
   "execution_count": null,
   "metadata": {},
   "outputs": [
    {
     "data": {
      "text/plain": [
       "array([[  1,   8,  21],\n",
       "       [  8,  25,  88],\n",
       "       [ 21,  88, 144]])"
      ]
     },
     "metadata": {},
     "output_type": "display_data"
    }
   ],
   "source": [
    "AT*A"
   ]
  },
  {
   "cell_type": "code",
   "execution_count": null,
   "metadata": {},
   "outputs": [
    {
     "data": {
      "text/plain": [
       "array([[0.66, 0.32],\n",
       "       [0.16, 0.66]])"
      ]
     },
     "metadata": {},
     "output_type": "display_data"
    },
    {
     "data": {
      "text/plain": [
       "array([[0.66, 0.32],\n",
       "       [0.16, 0.66]])"
      ]
     },
     "metadata": {},
     "output_type": "display_data"
    }
   ],
   "source": [
    "# SAS-Transformation\n",
    "\n",
    "eigvals_staub\n",
    "S = eigvectors_staub\n",
    "SI = LA.inv(eigvectors_staub)\n",
    "\n",
    "I = np.array([[1,0],\n",
    "              [0,1]])\n",
    "\n",
    "LAMBDA = eigvals_staub * I\n",
    "LAMBDA2 = LAMBDA @ LAMBDA\n",
    "\n",
    "S @ LAMBDA @ SI\n"
   ]
  },
  {
   "cell_type": "code",
   "execution_count": null,
   "id": "b026eea7",
   "metadata": {},
   "outputs": [
    {
     "data": {
      "text/plain": [
       "array([[0.94142136, 0.        ],\n",
       "       [0.        , 0.65857864]])"
      ]
     },
     "metadata": {},
     "output_type": "display_data"
    }
   ],
   "source": [
    "LAMBDA"
   ]
  },
  {
   "cell_type": "code",
   "execution_count": null,
   "id": "e1b8ee91",
   "metadata": {},
   "outputs": [
    {
     "name": "stdout",
     "output_type": "stream",
     "text": [
      "3.45 µs ± 453 ns per loop (mean ± std. dev. of 7 runs, 100000 loops each)\n"
     ]
    }
   ],
   "source": [
    "\n",
    "%%timeit\n",
    "S @ LAMBDA2 @ SI\n"
   ]
  },
  {
   "cell_type": "code",
   "execution_count": null,
   "id": "40bbdc24",
   "metadata": {},
   "outputs": [
    {
     "name": "stdout",
     "output_type": "stream",
     "text": [
      "2.09 µs ± 296 ns per loop (mean ± std. dev. of 7 runs, 100000 loops each)\n"
     ]
    }
   ],
   "source": [
    "%%timeit\n",
    "zombifizierungmatrix_staub @ zombifizierungmatrix_staub"
   ]
  },
  {
   "cell_type": "code",
   "execution_count": 30,
   "id": "244ffea5",
   "metadata": {},
   "outputs": [],
   "source": [
    "A = np.array([  [1,2,3],\n",
    "                [2,4,6],\n",
    "                [3,4,0]])"
   ]
  },
  {
   "cell_type": "code",
   "execution_count": 34,
   "metadata": {},
   "outputs": [
    {
     "name": "stdout",
     "output_type": "stream",
     "text": [
      "[[1 2 3]\n",
      " [2 4 6]\n",
      " [3 4 0]]\n",
      "[[14.]\n",
      " [56.]\n",
      " [25.]]\n",
      "[[3.74165739 6.         6.70820393]]\n",
      "[[1.         4.         0.61734694]\n",
      " [0.25       1.         0.15433673]\n",
      " [0.1936     0.7744     1.        ]]\n"
     ]
    }
   ],
   "source": [
    "print(A)\n",
    "A_norm_1 = LA.norm(A, axis=1, keepdims=True)\n",
    "A_norm_0 = LA.norm(A, axis=0, keepdims=True)\n",
    "print(A_norm_1**2)\n",
    "print(A_norm_0)\n",
    "print(((A @ A.T) / (A_norm_1**2))**2)\n"
   ]
  },
  {
   "cell_type": "code",
   "execution_count": 75,
   "metadata": {},
   "outputs": [],
   "source": [
    "A = np.array([  [1,0],\n",
    "                [1,1],\n",
    "                [1,2],\n",
    "                [0,2]])\n",
    "\n",
    "# LA.det(A)"
   ]
  },
  {
   "cell_type": "code",
   "execution_count": 64,
   "metadata": {},
   "outputs": [
    {
     "name": "stdout",
     "output_type": "stream",
     "text": [
      "[0 0 0 0] [0 0 0 0]\n"
     ]
    },
    {
     "data": {
      "image/png": "[encoded data removed]",
      "text/plain": [
       "<Figure size 432x288 with 1 Axes>"
      ]
     },
     "metadata": {
      "needs_background": "light"
     },
     "output_type": "display_data"
    }
   ],
   "source": [
    "origin = np.zeros_like(A.T)\n",
    "print(*origin)\n",
    "plt.quiver(*origin, A[:,0], A[:,1], scale=7)\n",
    "plt.show()"
   ]
  },
  {
   "cell_type": "code",
   "execution_count": 80,
   "metadata": {},
   "outputs": [
    {
     "data": {
      "text/plain": [
       "array([[1, 1, 1, 0],\n",
       "       [1, 2, 3, 2],\n",
       "       [1, 3, 5, 4],\n",
       "       [0, 2, 4, 4]])"
      ]
     },
     "execution_count": 80,
     "metadata": {},
     "output_type": "execute_result"
    }
   ],
   "source": [
    "(A@A.T) "
   ]
  },
  {
   "cell_type": "code",
   "execution_count": 82,
   "metadata": {},
   "outputs": [
    {
     "data": {
      "text/plain": [
       "array([[1.73205081, 3.        ],\n",
       "       [2.44948974, 4.24264069],\n",
       "       [3.87298335, 6.70820393],\n",
       "       [3.46410162, 6.        ]])"
      ]
     },
     "execution_count": 82,
     "metadata": {},
     "output_type": "execute_result"
    }
   ],
   "source": [
    "LA.norm(A, axis=1, keepdims=True)@LA.norm(A, axis=0, keepdims=True)"
   ]
  },
  {
   "cell_type": "code",
   "execution_count": null,
   "metadata": {},
   "outputs": [],
   "source": []
  }
 ],
 "metadata": {
  "interpreter": {
   "hash": "b3b98a2d53d0e8181fd3cd1829e8bf920772510e1667ce825da86798efdd9a10"
  },
  "kernelspec": {
   "display_name": "Python 3.10.4 ('venv': venv)",
   "language": "python",
   "name": "python3"
  },
  "language_info": {
   "codemirror_mode": {
    "name": "ipython",
    "version": 3
   },
   "file_extension": ".py",
   "mimetype": "text/x-python",
   "name": "python",
   "nbconvert_exporter": "python",
   "pygments_lexer": "ipython3",
   "version": "3.10.7"
  },
  "orig_nbformat": 4
 },
 "nbformat": 4,
 "nbformat_minor": 2
}
